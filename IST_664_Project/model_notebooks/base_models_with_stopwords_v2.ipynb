{
 "cells": [
  {
   "cell_type": "code",
   "execution_count": 61,
   "metadata": {
    "collapsed": true
   },
   "outputs": [],
   "source": [
    "import nltk\n",
    "from nltk import FreqDist\n",
    "import re\n",
    "import pandas as pd\n",
    "\n",
    "df = pd.read_csv('movie_review_fullsentence.csv')\n",
    "texts = df['Phrase'].str.lower().to_list()\n",
    "# clean_texts=[]\n",
    "# for text in texts:\n",
    "#     text=text.replace(\"-\",\" \")\n",
    "#     #text=text.replace(\"n't\",\"not\")\n",
    "#     text=text.strip()\n",
    "#     clean_texts.append(text)\n",
    "labels = df['Sentiment'].astype(str).to_list()\n",
    "test_train = df['label'].to_list()\n",
    "word_tokens = [nltk.word_tokenize(t) for t in texts]\n",
    "\n",
    "nltkstopwords = nltk.corpus.stopwords.words('english')\n",
    "morestopwords = ['sha','wo','y',\"'s\",\"'d\",\"'ll\",\"'t\",\"'m\",\"'re\",\n",
    "                 \"'ve\",\".\",\",\",'``', '--','-lrb-', '-rrb-',\"?\",\n",
    "                 \"`\",\":\",\"...\",\"'\",\"-\",\n",
    "                 'a', 'and', 'of', 'it', 'to', 'is', 'that', 'in', 'on',\n",
    "                 'at', 'ar', 'has',\"film\",\"movie\",\"the\"]\n",
    "\n",
    "stopwords =    morestopwords\n",
    "lancaster = nltk.LancasterStemmer()\n",
    "stopped_word_tokens= []\n",
    "for words in word_tokens:\n",
    "    stopped_word_tokens.append([lancaster.stem(w) for w in words if not w in stopwords])\n",
    "\n",
    "\n",
    "word_tokens = stopped_word_tokens\n"
   ]
  },
  {
   "cell_type": "code",
   "execution_count": 3,
   "outputs": [],
   "source": [
    "def print_eval_measures(gold, predicted):\n",
    "    # get a list of labels\n",
    "    labels = [\"0\",\"1\",\"2\",\"3\",\"4\"]\n",
    "    # these lists have values for each label\n",
    "    recall_list = []\n",
    "    precision_list = []\n",
    "    F1_list = []\n",
    "    for lab in labels:\n",
    "        # for each label, compare gold and predicted lists and compute values\n",
    "        TP = FP = FN = TN = 0\n",
    "        for i, val in enumerate(gold):\n",
    "            if val == lab and predicted[i] == lab:  TP += 1\n",
    "            if val == lab and predicted[i] != lab:  FN += 1\n",
    "            if val != lab and predicted[i] == lab:  FP += 1\n",
    "            if val != lab and predicted[i] != lab:  TN += 1\n",
    "        # use these to compute recall, precision, F1\n",
    "        recall = TP / (TP + FP)\n",
    "        precision = TP / (TP + FN)\n",
    "        recall_list.append(recall)\n",
    "        precision_list.append(precision)\n",
    "        F1_list.append( 2 * (recall * precision) / (recall + precision))\n",
    "\n",
    "    # the evaluation measures in a table with one row per label\n",
    "    print('\\tPrecision\\tRecall\\t\\tF1')\n",
    "    # print measures for each label\n",
    "    for i, lab in enumerate(labels):\n",
    "        print(lab, '\\t', \"{:10.3f}\".format(precision_list[i]),\n",
    "              \"{:10.3f}\".format(recall_list[i]), \"{:10.3f}\".format(F1_list[i]))\n",
    "\n",
    "    cm = nltk.ConfusionMatrix(gold, predicted)\n",
    "    #print(cm.pretty_format(sort_by_count=False, truncate=9))\n",
    "    # or show the results as percentages\n",
    "    print(cm.pretty_format(sort_by_count=False,values_in_chart=True, show_percents=True, truncate=9))"
   ],
   "metadata": {
    "collapsed": false,
    "pycharm": {
     "name": "#%%\n"
    }
   }
  },
  {
   "cell_type": "code",
   "execution_count": 69,
   "outputs": [],
   "source": [
    "def run_nb(featuresets, test_train):\n",
    "    train = []\n",
    "    test = []\n",
    "    for t,f in  zip(test_train,featuresets):\n",
    "        if(t == \"train\"):\n",
    "            train.append(f)\n",
    "        else:\n",
    "            test.append(f)\n",
    "    classifier = nltk.NaiveBayesClassifier.train(train)\n",
    "    predicted=classifier.classify_many([fs for (fs, l) in test])\n",
    "    gold =[]\n",
    "    for f,l in test:\n",
    "        gold.append(l)\n",
    "    print_eval_measures(predicted,gold)\n",
    "\n",
    "    correct = [l == r for  l, r in zip(gold, predicted)]\n",
    "    accuracy = sum(correct) / len(correct)\n",
    "    print(\"Accuracy: {}\".format(accuracy))\n",
    "    #print(\"Top 30 Features\")\n",
    "    classifier.show_most_informative_features(30)\n",
    "    return  classifier\n",
    "    # evaluate the accuracy of the classifier\n",
    "    #accuracy=nltk.classify.accuracy(classifier, test)\n",
    "    #print(\"Accuracy: {}\".format(accuracy))\n",
    "\n",
    "    # the accuracy result may vary since we randomized the documents\n",
    "\n",
    "    # show which features of classifier are most informative\n",
    "def explain_model(classifier):\n",
    "    classifier.show_most_informative_features(30)\n",
    "\n",
    "#sen_tokens = [nltk.sent_tokenize(text) for text in texts]\n",
    "#word_tokens = [nltk.word_tokenize(sent) for sent in sen_tokens]\n",
    "\n",
    "#nltkstopwords = nltk.corpus.stopwords.words('english')\n",
    "#morestopwords = ['ii','eh',\"'\",'?','*',\"'ye\",'ye','us','could','would','might','must','need','sha','wo','y',\"'s\",\"'d\",\"'ll\",\"'t\",\"'m\",\"'re\",\"'ve\", \"n't\"]\n",
    "\n",
    "#stopwords = nltkstopwords + morestopwords"
   ],
   "metadata": {
    "collapsed": false,
    "pycharm": {
     "name": "#%%\n"
    }
   }
  },
  {
   "cell_type": "code",
   "execution_count": 5,
   "outputs": [],
   "source": [
    "def run_cross_validation_nb(num_folds, featuresets):\n",
    "    subset_size = int(len(featuresets)/num_folds)\n",
    "    print('Folds: {} , Each fold size:{}'.format(num_folds,subset_size))\n",
    "    accuracy_list = []\n",
    "    # iterate over the folds\n",
    "    for i in range(num_folds):\n",
    "        test_this_round = featuresets[(i*subset_size):][:subset_size]\n",
    "        train_this_round = featuresets[:(i*subset_size)] + featuresets[((i+1)*subset_size):]\n",
    "        # train using train_this_round\n",
    "        classifier = nltk.NaiveBayesClassifier.train(train_this_round)\n",
    "        predicted=classifier.classify_many([fs for (fs, l) in test_this_round])\n",
    "        gold =[]\n",
    "        for f,l in test_this_round:\n",
    "            gold.append(l)\n",
    "        print_eval_measures(predicted,gold)\n",
    "\n",
    "        correct = [l == r for  l, r in zip(gold, predicted)]\n",
    "        accuracy_this_round = sum(correct) / len(correct)\n",
    "        print(\"Accuracy: {}\".format(accuracy_this_round))\n",
    "        print (i, accuracy_this_round)\n",
    "        accuracy_list.append(accuracy_this_round)\n",
    "    # find mean accuracy over all rounds\n",
    "    print ('mean accuracy', sum(accuracy_list) / num_folds)"
   ],
   "metadata": {
    "collapsed": false,
    "pycharm": {
     "name": "#%%\n"
    }
   }
  },
  {
   "cell_type": "code",
   "execution_count": 70,
   "outputs": [
    {
     "name": "stdout",
     "output_type": "stream",
     "text": [
      "['as', 'but', 'with', 'for', 'thi', 'an', 'it', 'you', 'on', \"n't\", 'be', 'not', 'lik', 'mor', 'by', 'about', 'ar', 'al', 'hav', 'from', 'than', 'mak', 'act', 'his', 'ev', 'i', 'so', 'if', 'story', 'or', 'charact', 'what', 'most', 'ther', 'out', 'direct', 'real', 'who', 'tim', 'just', 'too', 'doe', 'into', 'com', 'up', 'wil', 'work', 'us', 'good', 'comedy']\n",
      "\tPrecision\tRecall\t\tF1\n",
      "0 \t      0.379      0.283      0.324\n",
      "1 \t      0.425      0.459      0.441\n",
      "2 \t      0.294      0.276      0.285\n",
      "3 \t      0.434      0.483      0.457\n",
      "4 \t      0.428      0.409      0.418\n",
      "  |      0      1      2      3      4 |\n",
      "--+------------------------------------+\n",
      "0 |  <3.6%>  3.1%   1.4%   1.0%   0.3% |\n",
      "1 |   4.8% <11.9%>  6.2%   3.8%   1.3% |\n",
      "2 |   2.0%   5.0%  <5.3%>  4.2%   1.5% |\n",
      "3 |   1.4%   4.8%   5.1% <13.2%>  5.8% |\n",
      "4 |   0.7%   1.1%   1.2%   5.2%  <6.1%>|\n",
      "--+------------------------------------+\n",
      "(row = reference; col = test)\n",
      "\n",
      "Accuracy: 0.400390625\n",
      "Most Informative Features\n",
      "                   F_bad = True                0 : 4      =     35.4 : 1.0\n",
      "                  F_poor = True                0 : 3      =     21.0 : 1.0\n",
      "                 F_worst = True                0 : 3      =     16.0 : 1.0\n",
      "               F_perfect = True                4 : 1      =     14.8 : 1.0\n",
      "                  F_flat = True                0 : 3      =     13.7 : 1.0\n",
      "                  F_wond = True                4 : 1      =     13.5 : 1.0\n",
      "                  F_warm = True                4 : 2      =     13.3 : 1.0\n",
      "                   F_jok = True                0 : 3      =     12.3 : 1.0\n",
      "                  F_best = True                4 : 0      =     12.1 : 1.0\n",
      "                  F_amaz = True                4 : 1      =     12.1 : 1.0\n",
      "               F_engross = True                4 : 1      =     12.1 : 1.0\n",
      "                F_genuin = True                4 : 1      =     12.1 : 1.0\n",
      "                 F_smart = True                4 : 2      =     11.5 : 1.0\n",
      "                F_beauty = True                4 : 0      =     11.2 : 1.0\n",
      "                  F_less = True                2 : 4      =     11.2 : 1.0\n",
      "                 F_disgu = True                0 : 3      =     10.8 : 1.0\n",
      "                 F_money = True                0 : 3      =     10.8 : 1.0\n",
      "                  F_plot = True                1 : 4      =     10.3 : 1.0\n",
      "                 F_video = True                0 : 4      =      9.9 : 1.0\n",
      "                F_deeply = True                4 : 1      =      9.8 : 1.0\n",
      "                  F_gorg = True                4 : 1      =      9.8 : 1.0\n",
      "                   F_rev = True                4 : 1      =      9.8 : 1.0\n",
      "                   F_non = True                1 : 3      =      9.5 : 1.0\n",
      "                F_remark = True                4 : 1      =      9.3 : 1.0\n",
      "                  F_wher = True                1 : 4      =      9.1 : 1.0\n",
      "                 F_excel = True                4 : 2      =      9.0 : 1.0\n",
      "                  F_horr = True                0 : 2      =      8.7 : 1.0\n",
      "                  F_deft = True                4 : 1      =      8.6 : 1.0\n",
      "                F_french = True                4 : 1      =      8.6 : 1.0\n",
      "                F_reward = True                4 : 1      =      8.6 : 1.0\n"
     ]
    }
   ],
   "source": [
    "\n",
    "all_words_list = [word for text in word_tokens for word in text]\n",
    "all_words = nltk.FreqDist(all_words_list)\n",
    "# get the 2000 most frequently appearing keywords in the corpus\n",
    "word_items = all_words.most_common(1000)\n",
    "word_features = [word for (word,count) in word_items]\n",
    "print(word_features[:50])\n",
    "\n",
    "def unigram_features(document, word_features):\n",
    "    document_words = set(document)\n",
    "    features = {}\n",
    "    for word in word_features:\n",
    "        features['F_{}'.format(word)] = (word in document_words)\n",
    "    return features\n",
    "\n",
    "# get features sets for a document, including keyword features and category feature\n",
    "featuresets_uni1 = [(unigram_features(text, word_features), label) for text, label in zip(word_tokens, labels)]\n",
    "\n",
    "nb_uni=run_nb(featuresets_uni1,test_train)\n",
    "#explain_model(nb_uni)\n",
    "# perform the cross-validation on the featuresets with word features and generate accuracy\n",
    "num_folds = 5\n",
    "\n",
    "#run_cross_validation_nb(num_folds, featuresets_uni1)"
   ],
   "metadata": {
    "collapsed": false,
    "pycharm": {
     "name": "#%%\n"
    }
   }
  },
  {
   "cell_type": "code",
   "execution_count": 52,
   "outputs": [
    {
     "data": {
      "application/vnd.plotly.v1+json": {
       "config": {
        "plotlyServerURL": "https://plot.ly"
       },
       "data": [
        {
         "alignmentgroup": "True",
         "hovertemplate": "tokens=%{x}<br>frequency=%{y}<extra></extra>",
         "legendgroup": "",
         "marker": {
          "color": "#636efa"
         },
         "name": "",
         "offsetgroup": "",
         "orientation": "v",
         "showlegend": false,
         "textposition": "auto",
         "type": "bar",
         "x": [
          "as",
          "but",
          "with",
          "for",
          "thi",
          "an",
          "it",
          "you",
          "on",
          "n't",
          "be",
          "not",
          "lik",
          "mor",
          "by",
          "about",
          "ar",
          "al",
          "hav",
          "from",
          "than",
          "mak",
          "act",
          "his",
          "ev",
          "i",
          "so",
          "if",
          "story",
          "or",
          "charact",
          "what",
          "most",
          "ther",
          "out",
          "direct",
          "real",
          "who",
          "tim",
          "just",
          "too",
          "doe",
          "into",
          "com",
          "up",
          "wil",
          "work",
          "us",
          "good",
          "comedy"
         ],
         "xaxis": "x",
         "y": [
          0.012413236945940497,
          0.011251596056181177,
          0.010896383552701056,
          0.009869147393988269,
          0.009561936580167622,
          0.009321928131870242,
          0.009091520021504757,
          0.008237089945566083,
          0.00758426696619721,
          0.006537830131620633,
          0.006432226414369786,
          0.006221018979868091,
          0.00544339160738458,
          0.0053857895797932084,
          0.0052705855246104666,
          0.0051265804556320385,
          0.005097779441836352,
          0.004915373021130344,
          0.004636963221105383,
          0.004617762545241592,
          0.00452175916592264,
          0.004320152069352841,
          0.004224148690033889,
          0.004195347676238204,
          0.004156946324510623,
          0.004051342607259776,
          0.003744131793439129,
          0.0037249311175753387,
          0.0036769294279158627,
          0.0036097270623925964,
          0.0035329243589374347,
          0.0032449142209805787,
          0.003168111517525417,
          0.003129710165797836,
          0.003129710165797836,
          0.003120109827865941,
          0.003120109827865941,
          0.0030625078002745696,
          0.0030625078002745696,
          0.0030529074623426747,
          0.003033706786478884,
          0.0029473037450918273,
          0.00284170002784098,
          0.002793698338181504,
          0.002793698338181504,
          0.0027744976623177136,
          0.002736096310590133,
          0.002697694958862552,
          0.0026304925933392856,
          0.0026112919174754953
         ],
         "yaxis": "y"
        }
       ],
       "layout": {
        "barmode": "relative",
        "legend": {
         "tracegroupgap": 0
        },
        "template": {
         "data": {
          "bar": [
           {
            "error_x": {
             "color": "#2a3f5f"
            },
            "error_y": {
             "color": "#2a3f5f"
            },
            "marker": {
             "line": {
              "color": "#E5ECF6",
              "width": 0.5
             }
            },
            "type": "bar"
           }
          ],
          "barpolar": [
           {
            "marker": {
             "line": {
              "color": "#E5ECF6",
              "width": 0.5
             }
            },
            "type": "barpolar"
           }
          ],
          "carpet": [
           {
            "aaxis": {
             "endlinecolor": "#2a3f5f",
             "gridcolor": "white",
             "linecolor": "white",
             "minorgridcolor": "white",
             "startlinecolor": "#2a3f5f"
            },
            "baxis": {
             "endlinecolor": "#2a3f5f",
             "gridcolor": "white",
             "linecolor": "white",
             "minorgridcolor": "white",
             "startlinecolor": "#2a3f5f"
            },
            "type": "carpet"
           }
          ],
          "choropleth": [
           {
            "colorbar": {
             "outlinewidth": 0,
             "ticks": ""
            },
            "type": "choropleth"
           }
          ],
          "contour": [
           {
            "colorbar": {
             "outlinewidth": 0,
             "ticks": ""
            },
            "colorscale": [
             [
              0.0,
              "#0d0887"
             ],
             [
              0.1111111111111111,
              "#46039f"
             ],
             [
              0.2222222222222222,
              "#7201a8"
             ],
             [
              0.3333333333333333,
              "#9c179e"
             ],
             [
              0.4444444444444444,
              "#bd3786"
             ],
             [
              0.5555555555555556,
              "#d8576b"
             ],
             [
              0.6666666666666666,
              "#ed7953"
             ],
             [
              0.7777777777777778,
              "#fb9f3a"
             ],
             [
              0.8888888888888888,
              "#fdca26"
             ],
             [
              1.0,
              "#f0f921"
             ]
            ],
            "type": "contour"
           }
          ],
          "contourcarpet": [
           {
            "colorbar": {
             "outlinewidth": 0,
             "ticks": ""
            },
            "type": "contourcarpet"
           }
          ],
          "heatmap": [
           {
            "colorbar": {
             "outlinewidth": 0,
             "ticks": ""
            },
            "colorscale": [
             [
              0.0,
              "#0d0887"
             ],
             [
              0.1111111111111111,
              "#46039f"
             ],
             [
              0.2222222222222222,
              "#7201a8"
             ],
             [
              0.3333333333333333,
              "#9c179e"
             ],
             [
              0.4444444444444444,
              "#bd3786"
             ],
             [
              0.5555555555555556,
              "#d8576b"
             ],
             [
              0.6666666666666666,
              "#ed7953"
             ],
             [
              0.7777777777777778,
              "#fb9f3a"
             ],
             [
              0.8888888888888888,
              "#fdca26"
             ],
             [
              1.0,
              "#f0f921"
             ]
            ],
            "type": "heatmap"
           }
          ],
          "heatmapgl": [
           {
            "colorbar": {
             "outlinewidth": 0,
             "ticks": ""
            },
            "colorscale": [
             [
              0.0,
              "#0d0887"
             ],
             [
              0.1111111111111111,
              "#46039f"
             ],
             [
              0.2222222222222222,
              "#7201a8"
             ],
             [
              0.3333333333333333,
              "#9c179e"
             ],
             [
              0.4444444444444444,
              "#bd3786"
             ],
             [
              0.5555555555555556,
              "#d8576b"
             ],
             [
              0.6666666666666666,
              "#ed7953"
             ],
             [
              0.7777777777777778,
              "#fb9f3a"
             ],
             [
              0.8888888888888888,
              "#fdca26"
             ],
             [
              1.0,
              "#f0f921"
             ]
            ],
            "type": "heatmapgl"
           }
          ],
          "histogram": [
           {
            "marker": {
             "colorbar": {
              "outlinewidth": 0,
              "ticks": ""
             }
            },
            "type": "histogram"
           }
          ],
          "histogram2d": [
           {
            "colorbar": {
             "outlinewidth": 0,
             "ticks": ""
            },
            "colorscale": [
             [
              0.0,
              "#0d0887"
             ],
             [
              0.1111111111111111,
              "#46039f"
             ],
             [
              0.2222222222222222,
              "#7201a8"
             ],
             [
              0.3333333333333333,
              "#9c179e"
             ],
             [
              0.4444444444444444,
              "#bd3786"
             ],
             [
              0.5555555555555556,
              "#d8576b"
             ],
             [
              0.6666666666666666,
              "#ed7953"
             ],
             [
              0.7777777777777778,
              "#fb9f3a"
             ],
             [
              0.8888888888888888,
              "#fdca26"
             ],
             [
              1.0,
              "#f0f921"
             ]
            ],
            "type": "histogram2d"
           }
          ],
          "histogram2dcontour": [
           {
            "colorbar": {
             "outlinewidth": 0,
             "ticks": ""
            },
            "colorscale": [
             [
              0.0,
              "#0d0887"
             ],
             [
              0.1111111111111111,
              "#46039f"
             ],
             [
              0.2222222222222222,
              "#7201a8"
             ],
             [
              0.3333333333333333,
              "#9c179e"
             ],
             [
              0.4444444444444444,
              "#bd3786"
             ],
             [
              0.5555555555555556,
              "#d8576b"
             ],
             [
              0.6666666666666666,
              "#ed7953"
             ],
             [
              0.7777777777777778,
              "#fb9f3a"
             ],
             [
              0.8888888888888888,
              "#fdca26"
             ],
             [
              1.0,
              "#f0f921"
             ]
            ],
            "type": "histogram2dcontour"
           }
          ],
          "mesh3d": [
           {
            "colorbar": {
             "outlinewidth": 0,
             "ticks": ""
            },
            "type": "mesh3d"
           }
          ],
          "parcoords": [
           {
            "line": {
             "colorbar": {
              "outlinewidth": 0,
              "ticks": ""
             }
            },
            "type": "parcoords"
           }
          ],
          "pie": [
           {
            "automargin": true,
            "type": "pie"
           }
          ],
          "scatter": [
           {
            "marker": {
             "colorbar": {
              "outlinewidth": 0,
              "ticks": ""
             }
            },
            "type": "scatter"
           }
          ],
          "scatter3d": [
           {
            "line": {
             "colorbar": {
              "outlinewidth": 0,
              "ticks": ""
             }
            },
            "marker": {
             "colorbar": {
              "outlinewidth": 0,
              "ticks": ""
             }
            },
            "type": "scatter3d"
           }
          ],
          "scattercarpet": [
           {
            "marker": {
             "colorbar": {
              "outlinewidth": 0,
              "ticks": ""
             }
            },
            "type": "scattercarpet"
           }
          ],
          "scattergeo": [
           {
            "marker": {
             "colorbar": {
              "outlinewidth": 0,
              "ticks": ""
             }
            },
            "type": "scattergeo"
           }
          ],
          "scattergl": [
           {
            "marker": {
             "colorbar": {
              "outlinewidth": 0,
              "ticks": ""
             }
            },
            "type": "scattergl"
           }
          ],
          "scattermapbox": [
           {
            "marker": {
             "colorbar": {
              "outlinewidth": 0,
              "ticks": ""
             }
            },
            "type": "scattermapbox"
           }
          ],
          "scatterpolar": [
           {
            "marker": {
             "colorbar": {
              "outlinewidth": 0,
              "ticks": ""
             }
            },
            "type": "scatterpolar"
           }
          ],
          "scatterpolargl": [
           {
            "marker": {
             "colorbar": {
              "outlinewidth": 0,
              "ticks": ""
             }
            },
            "type": "scatterpolargl"
           }
          ],
          "scatterternary": [
           {
            "marker": {
             "colorbar": {
              "outlinewidth": 0,
              "ticks": ""
             }
            },
            "type": "scatterternary"
           }
          ],
          "surface": [
           {
            "colorbar": {
             "outlinewidth": 0,
             "ticks": ""
            },
            "colorscale": [
             [
              0.0,
              "#0d0887"
             ],
             [
              0.1111111111111111,
              "#46039f"
             ],
             [
              0.2222222222222222,
              "#7201a8"
             ],
             [
              0.3333333333333333,
              "#9c179e"
             ],
             [
              0.4444444444444444,
              "#bd3786"
             ],
             [
              0.5555555555555556,
              "#d8576b"
             ],
             [
              0.6666666666666666,
              "#ed7953"
             ],
             [
              0.7777777777777778,
              "#fb9f3a"
             ],
             [
              0.8888888888888888,
              "#fdca26"
             ],
             [
              1.0,
              "#f0f921"
             ]
            ],
            "type": "surface"
           }
          ],
          "table": [
           {
            "cells": {
             "fill": {
              "color": "#EBF0F8"
             },
             "line": {
              "color": "white"
             }
            },
            "header": {
             "fill": {
              "color": "#C8D4E3"
             },
             "line": {
              "color": "white"
             }
            },
            "type": "table"
           }
          ]
         },
         "layout": {
          "annotationdefaults": {
           "arrowcolor": "#2a3f5f",
           "arrowhead": 0,
           "arrowwidth": 1
          },
          "autotypenumbers": "strict",
          "coloraxis": {
           "colorbar": {
            "outlinewidth": 0,
            "ticks": ""
           }
          },
          "colorscale": {
           "diverging": [
            [
             0,
             "#8e0152"
            ],
            [
             0.1,
             "#c51b7d"
            ],
            [
             0.2,
             "#de77ae"
            ],
            [
             0.3,
             "#f1b6da"
            ],
            [
             0.4,
             "#fde0ef"
            ],
            [
             0.5,
             "#f7f7f7"
            ],
            [
             0.6,
             "#e6f5d0"
            ],
            [
             0.7,
             "#b8e186"
            ],
            [
             0.8,
             "#7fbc41"
            ],
            [
             0.9,
             "#4d9221"
            ],
            [
             1,
             "#276419"
            ]
           ],
           "sequential": [
            [
             0.0,
             "#0d0887"
            ],
            [
             0.1111111111111111,
             "#46039f"
            ],
            [
             0.2222222222222222,
             "#7201a8"
            ],
            [
             0.3333333333333333,
             "#9c179e"
            ],
            [
             0.4444444444444444,
             "#bd3786"
            ],
            [
             0.5555555555555556,
             "#d8576b"
            ],
            [
             0.6666666666666666,
             "#ed7953"
            ],
            [
             0.7777777777777778,
             "#fb9f3a"
            ],
            [
             0.8888888888888888,
             "#fdca26"
            ],
            [
             1.0,
             "#f0f921"
            ]
           ],
           "sequentialminus": [
            [
             0.0,
             "#0d0887"
            ],
            [
             0.1111111111111111,
             "#46039f"
            ],
            [
             0.2222222222222222,
             "#7201a8"
            ],
            [
             0.3333333333333333,
             "#9c179e"
            ],
            [
             0.4444444444444444,
             "#bd3786"
            ],
            [
             0.5555555555555556,
             "#d8576b"
            ],
            [
             0.6666666666666666,
             "#ed7953"
            ],
            [
             0.7777777777777778,
             "#fb9f3a"
            ],
            [
             0.8888888888888888,
             "#fdca26"
            ],
            [
             1.0,
             "#f0f921"
            ]
           ]
          },
          "colorway": [
           "#636efa",
           "#EF553B",
           "#00cc96",
           "#ab63fa",
           "#FFA15A",
           "#19d3f3",
           "#FF6692",
           "#B6E880",
           "#FF97FF",
           "#FECB52"
          ],
          "font": {
           "color": "#2a3f5f"
          },
          "geo": {
           "bgcolor": "white",
           "lakecolor": "white",
           "landcolor": "#E5ECF6",
           "showlakes": true,
           "showland": true,
           "subunitcolor": "white"
          },
          "hoverlabel": {
           "align": "left"
          },
          "hovermode": "closest",
          "mapbox": {
           "style": "light"
          },
          "paper_bgcolor": "white",
          "plot_bgcolor": "#E5ECF6",
          "polar": {
           "angularaxis": {
            "gridcolor": "white",
            "linecolor": "white",
            "ticks": ""
           },
           "bgcolor": "#E5ECF6",
           "radialaxis": {
            "gridcolor": "white",
            "linecolor": "white",
            "ticks": ""
           }
          },
          "scene": {
           "xaxis": {
            "backgroundcolor": "#E5ECF6",
            "gridcolor": "white",
            "gridwidth": 2,
            "linecolor": "white",
            "showbackground": true,
            "ticks": "",
            "zerolinecolor": "white"
           },
           "yaxis": {
            "backgroundcolor": "#E5ECF6",
            "gridcolor": "white",
            "gridwidth": 2,
            "linecolor": "white",
            "showbackground": true,
            "ticks": "",
            "zerolinecolor": "white"
           },
           "zaxis": {
            "backgroundcolor": "#E5ECF6",
            "gridcolor": "white",
            "gridwidth": 2,
            "linecolor": "white",
            "showbackground": true,
            "ticks": "",
            "zerolinecolor": "white"
           }
          },
          "shapedefaults": {
           "line": {
            "color": "#2a3f5f"
           }
          },
          "ternary": {
           "aaxis": {
            "gridcolor": "white",
            "linecolor": "white",
            "ticks": ""
           },
           "baxis": {
            "gridcolor": "white",
            "linecolor": "white",
            "ticks": ""
           },
           "bgcolor": "#E5ECF6",
           "caxis": {
            "gridcolor": "white",
            "linecolor": "white",
            "ticks": ""
           }
          },
          "title": {
           "x": 0.05
          },
          "xaxis": {
           "automargin": true,
           "gridcolor": "white",
           "linecolor": "white",
           "ticks": "",
           "title": {
            "standoff": 15
           },
           "zerolinecolor": "white",
           "zerolinewidth": 2
          },
          "yaxis": {
           "automargin": true,
           "gridcolor": "white",
           "linecolor": "white",
           "ticks": "",
           "title": {
            "standoff": 15
           },
           "zerolinecolor": "white",
           "zerolinewidth": 2
          }
         }
        },
        "title": {
         "text": "Normalized Frequency Distribution of Tokens"
        },
        "width": 1000,
        "xaxis": {
         "anchor": "y",
         "domain": [
          0.0,
          1.0
         ],
         "title": {
          "text": "tokens"
         }
        },
        "yaxis": {
         "anchor": "x",
         "domain": [
          0.0,
          1.0
         ],
         "title": {
          "text": "frequency"
         }
        }
       }
      },
      "text/html": "<div>                            <div id=\"7ef5268e-83f2-4d44-a1e0-3144e50d7bff\" class=\"plotly-graph-div\" style=\"height:525px; width:1000px;\"></div>            <script type=\"text/javascript\">                require([\"plotly\"], function(Plotly) {                    window.PLOTLYENV=window.PLOTLYENV || {};                                    if (document.getElementById(\"7ef5268e-83f2-4d44-a1e0-3144e50d7bff\")) {                    Plotly.newPlot(                        \"7ef5268e-83f2-4d44-a1e0-3144e50d7bff\",                        [{\"alignmentgroup\": \"True\", \"hovertemplate\": \"tokens=%{x}<br>frequency=%{y}<extra></extra>\", \"legendgroup\": \"\", \"marker\": {\"color\": \"#636efa\"}, \"name\": \"\", \"offsetgroup\": \"\", \"orientation\": \"v\", \"showlegend\": false, \"textposition\": \"auto\", \"type\": \"bar\", \"x\": [\"as\", \"but\", \"with\", \"for\", \"thi\", \"an\", \"it\", \"you\", \"on\", \"n't\", \"be\", \"not\", \"lik\", \"mor\", \"by\", \"about\", \"ar\", \"al\", \"hav\", \"from\", \"than\", \"mak\", \"act\", \"his\", \"ev\", \"i\", \"so\", \"if\", \"story\", \"or\", \"charact\", \"what\", \"most\", \"ther\", \"out\", \"direct\", \"real\", \"who\", \"tim\", \"just\", \"too\", \"doe\", \"into\", \"com\", \"up\", \"wil\", \"work\", \"us\", \"good\", \"comedy\"], \"xaxis\": \"x\", \"y\": [0.012413236945940497, 0.011251596056181177, 0.010896383552701056, 0.009869147393988269, 0.009561936580167622, 0.009321928131870242, 0.009091520021504757, 0.008237089945566083, 0.00758426696619721, 0.006537830131620633, 0.006432226414369786, 0.006221018979868091, 0.00544339160738458, 0.0053857895797932084, 0.0052705855246104666, 0.0051265804556320385, 0.005097779441836352, 0.004915373021130344, 0.004636963221105383, 0.004617762545241592, 0.00452175916592264, 0.004320152069352841, 0.004224148690033889, 0.004195347676238204, 0.004156946324510623, 0.004051342607259776, 0.003744131793439129, 0.0037249311175753387, 0.0036769294279158627, 0.0036097270623925964, 0.0035329243589374347, 0.0032449142209805787, 0.003168111517525417, 0.003129710165797836, 0.003129710165797836, 0.003120109827865941, 0.003120109827865941, 0.0030625078002745696, 0.0030625078002745696, 0.0030529074623426747, 0.003033706786478884, 0.0029473037450918273, 0.00284170002784098, 0.002793698338181504, 0.002793698338181504, 0.0027744976623177136, 0.002736096310590133, 0.002697694958862552, 0.0026304925933392856, 0.0026112919174754953], \"yaxis\": \"y\"}],                        {\"barmode\": \"relative\", \"legend\": {\"tracegroupgap\": 0}, \"template\": {\"data\": {\"bar\": [{\"error_x\": {\"color\": \"#2a3f5f\"}, \"error_y\": {\"color\": \"#2a3f5f\"}, \"marker\": {\"line\": {\"color\": \"#E5ECF6\", \"width\": 0.5}}, \"type\": \"bar\"}], \"barpolar\": [{\"marker\": {\"line\": {\"color\": \"#E5ECF6\", \"width\": 0.5}}, \"type\": \"barpolar\"}], \"carpet\": [{\"aaxis\": {\"endlinecolor\": \"#2a3f5f\", \"gridcolor\": \"white\", \"linecolor\": \"white\", \"minorgridcolor\": \"white\", \"startlinecolor\": \"#2a3f5f\"}, \"baxis\": {\"endlinecolor\": \"#2a3f5f\", \"gridcolor\": \"white\", \"linecolor\": \"white\", \"minorgridcolor\": \"white\", \"startlinecolor\": \"#2a3f5f\"}, \"type\": \"carpet\"}], \"choropleth\": [{\"colorbar\": {\"outlinewidth\": 0, \"ticks\": \"\"}, \"type\": \"choropleth\"}], \"contour\": [{\"colorbar\": {\"outlinewidth\": 0, \"ticks\": \"\"}, \"colorscale\": [[0.0, \"#0d0887\"], [0.1111111111111111, \"#46039f\"], [0.2222222222222222, \"#7201a8\"], [0.3333333333333333, \"#9c179e\"], [0.4444444444444444, \"#bd3786\"], [0.5555555555555556, \"#d8576b\"], [0.6666666666666666, \"#ed7953\"], [0.7777777777777778, \"#fb9f3a\"], [0.8888888888888888, \"#fdca26\"], [1.0, \"#f0f921\"]], \"type\": \"contour\"}], \"contourcarpet\": [{\"colorbar\": {\"outlinewidth\": 0, \"ticks\": \"\"}, \"type\": \"contourcarpet\"}], \"heatmap\": [{\"colorbar\": {\"outlinewidth\": 0, \"ticks\": \"\"}, \"colorscale\": [[0.0, \"#0d0887\"], [0.1111111111111111, \"#46039f\"], [0.2222222222222222, \"#7201a8\"], [0.3333333333333333, \"#9c179e\"], [0.4444444444444444, \"#bd3786\"], [0.5555555555555556, \"#d8576b\"], [0.6666666666666666, \"#ed7953\"], [0.7777777777777778, \"#fb9f3a\"], [0.8888888888888888, \"#fdca26\"], [1.0, \"#f0f921\"]], \"type\": \"heatmap\"}], \"heatmapgl\": [{\"colorbar\": {\"outlinewidth\": 0, \"ticks\": \"\"}, \"colorscale\": [[0.0, \"#0d0887\"], [0.1111111111111111, \"#46039f\"], [0.2222222222222222, \"#7201a8\"], [0.3333333333333333, \"#9c179e\"], [0.4444444444444444, \"#bd3786\"], [0.5555555555555556, \"#d8576b\"], [0.6666666666666666, \"#ed7953\"], [0.7777777777777778, \"#fb9f3a\"], [0.8888888888888888, \"#fdca26\"], [1.0, \"#f0f921\"]], \"type\": \"heatmapgl\"}], \"histogram\": [{\"marker\": {\"colorbar\": {\"outlinewidth\": 0, \"ticks\": \"\"}}, \"type\": \"histogram\"}], \"histogram2d\": [{\"colorbar\": {\"outlinewidth\": 0, \"ticks\": \"\"}, \"colorscale\": [[0.0, \"#0d0887\"], [0.1111111111111111, \"#46039f\"], [0.2222222222222222, \"#7201a8\"], [0.3333333333333333, \"#9c179e\"], [0.4444444444444444, \"#bd3786\"], [0.5555555555555556, \"#d8576b\"], [0.6666666666666666, \"#ed7953\"], [0.7777777777777778, \"#fb9f3a\"], [0.8888888888888888, \"#fdca26\"], [1.0, \"#f0f921\"]], \"type\": \"histogram2d\"}], \"histogram2dcontour\": [{\"colorbar\": {\"outlinewidth\": 0, \"ticks\": \"\"}, \"colorscale\": [[0.0, \"#0d0887\"], [0.1111111111111111, \"#46039f\"], [0.2222222222222222, \"#7201a8\"], [0.3333333333333333, \"#9c179e\"], [0.4444444444444444, \"#bd3786\"], [0.5555555555555556, \"#d8576b\"], [0.6666666666666666, \"#ed7953\"], [0.7777777777777778, \"#fb9f3a\"], [0.8888888888888888, \"#fdca26\"], [1.0, \"#f0f921\"]], \"type\": \"histogram2dcontour\"}], \"mesh3d\": [{\"colorbar\": {\"outlinewidth\": 0, \"ticks\": \"\"}, \"type\": \"mesh3d\"}], \"parcoords\": [{\"line\": {\"colorbar\": {\"outlinewidth\": 0, \"ticks\": \"\"}}, \"type\": \"parcoords\"}], \"pie\": [{\"automargin\": true, \"type\": \"pie\"}], \"scatter\": [{\"marker\": {\"colorbar\": {\"outlinewidth\": 0, \"ticks\": \"\"}}, \"type\": \"scatter\"}], \"scatter3d\": [{\"line\": {\"colorbar\": {\"outlinewidth\": 0, \"ticks\": \"\"}}, \"marker\": {\"colorbar\": {\"outlinewidth\": 0, \"ticks\": \"\"}}, \"type\": \"scatter3d\"}], \"scattercarpet\": [{\"marker\": {\"colorbar\": {\"outlinewidth\": 0, \"ticks\": \"\"}}, \"type\": \"scattercarpet\"}], \"scattergeo\": [{\"marker\": {\"colorbar\": {\"outlinewidth\": 0, \"ticks\": \"\"}}, \"type\": \"scattergeo\"}], \"scattergl\": [{\"marker\": {\"colorbar\": {\"outlinewidth\": 0, \"ticks\": \"\"}}, \"type\": \"scattergl\"}], \"scattermapbox\": [{\"marker\": {\"colorbar\": {\"outlinewidth\": 0, \"ticks\": \"\"}}, \"type\": \"scattermapbox\"}], \"scatterpolar\": [{\"marker\": {\"colorbar\": {\"outlinewidth\": 0, \"ticks\": \"\"}}, \"type\": \"scatterpolar\"}], \"scatterpolargl\": [{\"marker\": {\"colorbar\": {\"outlinewidth\": 0, \"ticks\": \"\"}}, \"type\": \"scatterpolargl\"}], \"scatterternary\": [{\"marker\": {\"colorbar\": {\"outlinewidth\": 0, \"ticks\": \"\"}}, \"type\": \"scatterternary\"}], \"surface\": [{\"colorbar\": {\"outlinewidth\": 0, \"ticks\": \"\"}, \"colorscale\": [[0.0, \"#0d0887\"], [0.1111111111111111, \"#46039f\"], [0.2222222222222222, \"#7201a8\"], [0.3333333333333333, \"#9c179e\"], [0.4444444444444444, \"#bd3786\"], [0.5555555555555556, \"#d8576b\"], [0.6666666666666666, \"#ed7953\"], [0.7777777777777778, \"#fb9f3a\"], [0.8888888888888888, \"#fdca26\"], [1.0, \"#f0f921\"]], \"type\": \"surface\"}], \"table\": [{\"cells\": {\"fill\": {\"color\": \"#EBF0F8\"}, \"line\": {\"color\": \"white\"}}, \"header\": {\"fill\": {\"color\": \"#C8D4E3\"}, \"line\": {\"color\": \"white\"}}, \"type\": \"table\"}]}, \"layout\": {\"annotationdefaults\": {\"arrowcolor\": \"#2a3f5f\", \"arrowhead\": 0, \"arrowwidth\": 1}, \"autotypenumbers\": \"strict\", \"coloraxis\": {\"colorbar\": {\"outlinewidth\": 0, \"ticks\": \"\"}}, \"colorscale\": {\"diverging\": [[0, \"#8e0152\"], [0.1, \"#c51b7d\"], [0.2, \"#de77ae\"], [0.3, \"#f1b6da\"], [0.4, \"#fde0ef\"], [0.5, \"#f7f7f7\"], [0.6, \"#e6f5d0\"], [0.7, \"#b8e186\"], [0.8, \"#7fbc41\"], [0.9, \"#4d9221\"], [1, \"#276419\"]], \"sequential\": [[0.0, \"#0d0887\"], [0.1111111111111111, \"#46039f\"], [0.2222222222222222, \"#7201a8\"], [0.3333333333333333, \"#9c179e\"], [0.4444444444444444, \"#bd3786\"], [0.5555555555555556, \"#d8576b\"], [0.6666666666666666, \"#ed7953\"], [0.7777777777777778, \"#fb9f3a\"], [0.8888888888888888, \"#fdca26\"], [1.0, \"#f0f921\"]], \"sequentialminus\": [[0.0, \"#0d0887\"], [0.1111111111111111, \"#46039f\"], [0.2222222222222222, \"#7201a8\"], [0.3333333333333333, \"#9c179e\"], [0.4444444444444444, \"#bd3786\"], [0.5555555555555556, \"#d8576b\"], [0.6666666666666666, \"#ed7953\"], [0.7777777777777778, \"#fb9f3a\"], [0.8888888888888888, \"#fdca26\"], [1.0, \"#f0f921\"]]}, \"colorway\": [\"#636efa\", \"#EF553B\", \"#00cc96\", \"#ab63fa\", \"#FFA15A\", \"#19d3f3\", \"#FF6692\", \"#B6E880\", \"#FF97FF\", \"#FECB52\"], \"font\": {\"color\": \"#2a3f5f\"}, \"geo\": {\"bgcolor\": \"white\", \"lakecolor\": \"white\", \"landcolor\": \"#E5ECF6\", \"showlakes\": true, \"showland\": true, \"subunitcolor\": \"white\"}, \"hoverlabel\": {\"align\": \"left\"}, \"hovermode\": \"closest\", \"mapbox\": {\"style\": \"light\"}, \"paper_bgcolor\": \"white\", \"plot_bgcolor\": \"#E5ECF6\", \"polar\": {\"angularaxis\": {\"gridcolor\": \"white\", \"linecolor\": \"white\", \"ticks\": \"\"}, \"bgcolor\": \"#E5ECF6\", \"radialaxis\": {\"gridcolor\": \"white\", \"linecolor\": \"white\", \"ticks\": \"\"}}, \"scene\": {\"xaxis\": {\"backgroundcolor\": \"#E5ECF6\", \"gridcolor\": \"white\", \"gridwidth\": 2, \"linecolor\": \"white\", \"showbackground\": true, \"ticks\": \"\", \"zerolinecolor\": \"white\"}, \"yaxis\": {\"backgroundcolor\": \"#E5ECF6\", \"gridcolor\": \"white\", \"gridwidth\": 2, \"linecolor\": \"white\", \"showbackground\": true, \"ticks\": \"\", \"zerolinecolor\": \"white\"}, \"zaxis\": {\"backgroundcolor\": \"#E5ECF6\", \"gridcolor\": \"white\", \"gridwidth\": 2, \"linecolor\": \"white\", \"showbackground\": true, \"ticks\": \"\", \"zerolinecolor\": \"white\"}}, \"shapedefaults\": {\"line\": {\"color\": \"#2a3f5f\"}}, \"ternary\": {\"aaxis\": {\"gridcolor\": \"white\", \"linecolor\": \"white\", \"ticks\": \"\"}, \"baxis\": {\"gridcolor\": \"white\", \"linecolor\": \"white\", \"ticks\": \"\"}, \"bgcolor\": \"#E5ECF6\", \"caxis\": {\"gridcolor\": \"white\", \"linecolor\": \"white\", \"ticks\": \"\"}}, \"title\": {\"x\": 0.05}, \"xaxis\": {\"automargin\": true, \"gridcolor\": \"white\", \"linecolor\": \"white\", \"ticks\": \"\", \"title\": {\"standoff\": 15}, \"zerolinecolor\": \"white\", \"zerolinewidth\": 2}, \"yaxis\": {\"automargin\": true, \"gridcolor\": \"white\", \"linecolor\": \"white\", \"ticks\": \"\", \"title\": {\"standoff\": 15}, \"zerolinecolor\": \"white\", \"zerolinewidth\": 2}}}, \"title\": {\"text\": \"Normalized Frequency Distribution of Tokens\"}, \"width\": 1000, \"xaxis\": {\"anchor\": \"y\", \"domain\": [0.0, 1.0], \"title\": {\"text\": \"tokens\"}}, \"yaxis\": {\"anchor\": \"x\", \"domain\": [0.0, 1.0], \"title\": {\"text\": \"frequency\"}}},                        {\"responsive\": true}                    ).then(function(){\n                            \nvar gd = document.getElementById('7ef5268e-83f2-4d44-a1e0-3144e50d7bff');\nvar x = new MutationObserver(function (mutations, observer) {{\n        var display = window.getComputedStyle(gd).display;\n        if (!display || display === 'none') {{\n            console.log([gd, 'removed!']);\n            Plotly.purge(gd);\n            observer.disconnect();\n        }}\n}});\n\n// Listen for the removal of the full notebook cells\nvar notebookContainer = gd.closest('#notebook-container');\nif (notebookContainer) {{\n    x.observe(notebookContainer, {childList: true});\n}}\n\n// Listen for the clearing of the current output cell\nvar outputEl = gd.closest('.output');\nif (outputEl) {{\n    x.observe(outputEl, {childList: true});\n}}\n\n                        })                };                });            </script>        </div>"
     },
     "metadata": {},
     "output_type": "display_data"
    }
   ],
   "source": [
    "\n",
    "all_words_list = [word for text in word_tokens for word in text]\n",
    "all_words = nltk.FreqDist(all_words_list)\n",
    "# get the 2000 most frequently appearing keywords in the corpus\n",
    "# word_items_all = all_words.most_common(16000)\n",
    "# word_features_all = [word for (word,count) in word_items_all]\n",
    "# print(word_features_all[:50])\n",
    "#\n",
    "# def unigram_features(document, word_features):\n",
    "#     document_words = set(document)\n",
    "#     features = {}\n",
    "#     for word in word_features:\n",
    "#         features['F_{}'.format(word)] = (word in document_words)\n",
    "#     return features\n",
    "#\n",
    "# # get features sets for a document, including keyword features and category feature\n",
    "# featuresets_uni2 = [(unigram_features(text, word_features_all), label) for text, label in zip(word_tokens, labels)]\n",
    "#\n",
    "#nb_uni2=run_nb(featuresets_uni2,test_train)\n",
    "#explain_model(nb_uni)\n",
    "total = all_words.N()\n",
    "for word in all_words:\n",
    "    all_words[word] /= float(total)\n",
    "\n",
    "import plotly.express as px\n",
    "moby_df_norm=pd.DataFrame(all_words.items(), columns=['tokens', 'frequency'])\n",
    "fig=px.bar(moby_df_norm.nlargest(50,'frequency'),x='tokens',y='frequency', width=1000,\n",
    "           title=\"Normalized Frequency Distribution of Tokens\")\n",
    "fig.show()\n",
    "# perform the cross-validation on the featuresets with word features and generate accuracy\n",
    "num_folds = 5\n",
    "\n",
    "#run_cross_validation_nb(num_folds, featuresets_uni1)"
   ],
   "metadata": {
    "collapsed": false,
    "pycharm": {
     "name": "#%%\n"
    }
   }
  },
  {
   "cell_type": "code",
   "execution_count": 64,
   "outputs": [
    {
     "name": "stdout",
     "output_type": "stream",
     "text": [
      "['pumpkin', 'struts', 'about', 'with', 'cour', 'pin', 'it', 'huckst', 'lapel', 'whil', 'yellow', 'streak', 'mil', 'wid', 'dec', 'it', 'back', 'mak', 'no', 'mistak', 'iv', 'xtc', 'piano', 'teach', 'not', 'an', 'easy', 'i', 'was', 'hop', 'would', 'be', 'sleazy', 'fun', 'but', 'was', 'neith', 'word', 'com', 'mind', 'whil', 'watch', 'er', 'rohm', 'tribut', 'cour', 'scot', 'lady', 'paint', 'for']\n",
      "[(\"'30s\", \"'40s\"), (\"'80s\", 'hatosy'), ('10-course', 'banquet'), ('18-year-old', 'mistress'), ('1950', 'dor'), ('1959', 'godzill'), ('1986', 'harlem'), ('50-something', 'lovebird'), ('75-minute', 'sampl'), ('\\\\', '*'), ('a.e.w', 'mason'), ('abbot', 'ernest'), ('abd', 'malik'), ('abderrahm', 'sissako'), ('achero', 'mana'), ('acr', 'haut'), ('admin', 'compl'), ('adry', 'brody'), ('age-wis', 'caviezel'), ('alain', 'choquart'), ('alchem', 'transmogr'), ('all-night', 'tequil'), ('american-russ', 'armageddon'), ('ann', 'mougl'), ('arithmet', 'camera'), ('artless', 'sytl'), ('as-it', 'thinks-it-'), ('as-nasty', 'as-it'), ('ash', 'wednesday'), ('aur', 'christelle'), ('auschwitz', 'ii-birkenau'), ('avon', 'leer'), ('avuncul', 'chortl'), ('ba', 'murdock'), ('baloney', 'biz'), ('bang-bang', 'shoot-em-up'), ('be-all-end-all', 'modern-office'), ('beachcomb', 'verismo'), ('beav', 'butthead'), ('beb', 'neuwir'), ('bedknob', 'broomstick'), ('bedsid', 'vigil'), ('been-told-a', 'thousand-times'), ('behind-the-scenes', 'navel-gazing'), ('beloved-major', 'character-who-shall'), ('bentley', 'hudson'), ('bettany\\\\/mcdowell', 'hard-ey'), ('biggy', 'tupac'), ('bitchy', 'frol'), ('blanchet', 'ribis')]\n",
      "1200\n",
      "{'V_as': False, 'V_but': False, 'V_with': True, 'V_for': False, 'V_thi': False, 'V_an': False, 'V_it': True, 'V_you': False, 'V_on': False, \"V_n't\": False, 'V_be': False, 'V_not': False, 'V_lik': False, 'V_mor': False, 'V_by': False, 'V_about': True, 'V_ar': False, 'V_al': False, 'V_hav': False, 'V_from': False, 'V_than': False, 'V_mak': False, 'V_act': False, 'V_his': False, 'V_ev': False, 'V_i': False, 'V_so': False, 'V_if': False, 'V_story': False, 'V_or': False, 'V_charact': False, 'V_what': False, 'V_most': False, 'V_ther': False, 'V_out': False, 'V_direct': False, 'V_real': False, 'V_who': False, 'V_tim': False, 'V_just': False, 'V_too': False, 'V_doe': False, 'V_into': False, 'V_com': False, 'V_up': False, 'V_wil': False, 'V_work': False, 'V_us': False, 'V_good': False, 'V_comedy': False, 'V_can': False, 'V_no': False, 'V_much': False, 'V_perform': False, 'V_feel': False, 'V_her': False, 'V_som': False, 'V_way': False, 'V_funny': False, 'V_lov': False, 'V_hum': False, 'V_their': False, 'V_he': False, 'V_off': False, 'V_look': False, 'V_littl': False, 'V_get': False, 'V_man': False, 'V_yo': False, 'V_they': False, 'V_nev': False, 'V_dram': False, 'V_do': False, 'V_very': False, 'V_would': False, 'V_which': False, 'V_tak': False, 'V_we': False, 'V_been': False, 'V_watch': False, 'V_may': False, 'V_end': False, 'V_bad': False, 'V_seem': False, 'V_enough': False, 'V_thing': False, 'V_any': False, 'V_giv': False, 'V_was': False, 'V_when': False, 'V_see': False, 'V_entertain': False, 'V_lif': False, 'V_mad': False, 'V_best': False, 'V_new': False, 'V_movy': False, 'V_them': False, 'V_could': False, 'V_whil': True, 'V_mat': False, 'V_plot': False, 'V_wel': False, 'V_tal': False, 'V_oth': False, 'V_how': False, 'V_through': False, 'V_film': False, 'V_interest': False, 'V_play': False, 'V_someth': False, 'V_audy': False, 'V_should': False, 'V_sens': False, 'V_many': False, 'V_year': False, 'V_bet': False, 'V_cast': False, 'V_rom': False, 'V_without': False, 'V_both': False, 'V_own': False, 'V_thos': False, 'V_vis': False, 'V_art': False, 'V_filmmak': False, 'V_long': False, 'V_emot': False, 'V_fin': False, 'V_being': False, 'V_noth': False, 'V_gre': False, 'V_peopl': False, 'V_stil': False, 'V_two': False, 'V_cinem': False, 'V_every': False, 'V_hard': False, 'V_also': False, 'V_car': False, 'V_big': False, 'V_ov': False, 'V_pict': False, 'V_cre': False, 'V_mom': False, 'V_surpr': False, 'V_might': False, 'V_docu': False, 'V_am': False, 'V_though': False, 'V_such': False, 'V_pow': False, 'V_fun': False, 'V_beauty': False, 'V_first': False, 'V_find': False, 'V_far': False, 'V_enjoy': False, 'V_bit': False, 'V_view': False, 'V_want': False, 'V_kind': False, 'V_liv': False, 'V_show': False, 'V_less': False, 'V_anoth': False, 'V_laugh': False, 'V_minut': False, 'V_script': False, 'V_tru': False, 'V_few': False, 'V_between': False, 'V_sery': False, 'V_scen': False, 'V_lot': False, 'V_charm': False, 'V_ultim': False, 'V_oft': False, 'V_styl': False, 'V_lack': False, 'V_becaus': False, 'V_world': False, 'V_quit': False, 'V_;': False, 'V_nee': False, 'V_think': False, 'V_yet': False, 'V_gen': False, 'V_ful': False, 'V_down': False, 'V_thes': False, 'V_famy': False, 'V_pleas': False, 'V_wom': False, 'V_mov': False, 'V_heart': False, 'V_turn': False, 'V_origin': False, 'V_wer': False, 'V_keep': False, 'V_thriller': False, 'V_aft': False, 'V_almost': False, 'V_!': False, 'V_del': False, 'V_becom': False, 'V_know': False, 'V_old': False, 'V_hollywood': False, 'V_hist': False, 'V_rath': False, 'V_ca': False, 'V_mus': False, 'V_had': False, 'V_effect': False, 'V_my': False, 'V_wor': False, 'V_mess': False, 'V_point': False, 'V_easy': False, 'V_kid': False, 'V_the': False, 'V_writ': False, 'V_she': False, 'V_bef': False, 'V_me': False, 'V_expery': False, 'V_go': False, 'V_screen': False, 'V_seen': False, 'V_spec': False, 'V_sint': False, 'V_leav': False, 'V_piec': False, 'V_star': False, 'V_itself': False, 'V_set': False, 'V_back': True, 'V_subject': False, 'V_success': False, 'V_right': False, 'V_nat': False, 'V_pass': False, 'V_young': False, 'V_dark': False, 'V_then': False, 'V_wher': False, 'V_high': False, 'V_anim': False, 'V_cult': False, 'V_sil': False, 'V_dialog': False, 'V_part': False, 'V_person': False, 'V_say': False, 'V_intellig': False, 'V_fan': False, 'V_produc': False, 'V_hour': False, 'V_run': False, 'V_try': False, 'V_despit': False, 'V_plac': False, 'V_feat': False, 'V_flick': False, 'V_compel': False, 'V_imagin': False, 'V_wond': False, 'V_ont': False, 'V_fascin': False, 'V_our': False, 'V_rar': False, 'V_day': False, 'V_certain': False, 'V_sweet': False, 'V_touch': False, 'V_believ': False, 'V_problem': False, 'V_sad': False, 'V_spirit': False, 'V_sam': False, 'V_eng': False, 'V_class': False, 'V_predict': False, 'V_adv': False, 'V_did': False, 'V_again': False, 'V_least': False, 'V_fail': False, 'V_sometim': False, 'V_clev': False, 'V_war': False, 'V_last': False, 'V_cont': False, 'V_short': False, 'V_smart': False, 'V_put': False, 'V_thought': False, 'V_sex': False, 'V_sur': False, 'V_togeth': False, 'V_start': False, 'V_rel': False, 'V_prob': False, 'V_why': False, 'V_dul': False, 'V_bor': False, 'V_whol': False, 'V_perfect': False, 'V_nar': False, 'V_capt': False, 'V_anyon': False, 'V_going': False, 'V_hom': False, 'V_tel': False, 'V_od': False, 'V_serv': False, 'V_near': False, 'V_cut': False, 'V_wild': False, 'V_him': False, 'V_amus': False, 'V_away': False, 'V_expect': False, 'V_mem': False, 'V_pretty': False, 'V_anyth': False, 'V_teen': False, 'V_simply': False, 'V_prov': False, 'V_melodram': False, 'V_fac': False, 'V_reason': False, 'V_complet': False, 'V_delight': False, 'V_screenplay': False, 'V_titl': False, 'V_und': False, 'V_don': False, 'V_rol': False, 'V_effort': False, 'V_ap': False, 'V_famili': False, 'V_guy': False, 'V_polit': False, 'V_cal': False, 'V_inspir': False, 'V_everyth': False, 'V_pac': False, 'V_mr.': False, 'V_fal': False, 'V_entir': False, 'V_prem': False, 'V_genr': False, 'V_bring': False, 'V_sum': False, 'V_goe': False, 'V_light': False, 'V_mean': False, 'V_hop': False, 'V_lead': False, 'V_lin': False, 'V_obvy': False, 'V_girl': False, 'V_shot': False, 'V_alway': False, 'V_ag': False, 'V_hil': False, 'V_instead': False, 'V_ter': False, 'V_around': False, 'V_pres': False, 'V_ide': False, 'V_senty': False, 'V_flaw': False, 'V_attempt': False, 'V_rich': False, 'V_childr': False, 'V_win': False, 'V_pain': False, 'V_twist': False, 'V_fact': False, 'V_forc': False, 'V_el': False, 'V_poss': False, 'V_wit': False, 'V_video': False, 'V_ton': False, 'V_clos': False, 'V_tend': False, 'V_impress': False, 'V_ad': False, 'V_par': False, 'V_tre': False, 'V_portrait': False, 'V_simpl': False, 'V_abl': False, 'V_quest': False, 'V_clich': False, 'V_vert': False, 'V_espec': False, 'V_boy': False, 'V_whos': False, 'V_exerc': False, 'V_study': False, 'V_crim': False, 'V_bas': False, 'V_miss': False, 'V_strong': False, 'V_each': False, 'V_level': False, 'V_three': False, 'V_let': False, 'V_jok': False, 'V_particul': False, 'V_op': False, 'V_intrigu': False, 'V_insight': False, 'V_rev': False, 'V_pot': False, 'V_solid': False, 'V_fresh': False, 'V_remain': False, 'V_worst': False, 'V_tri': False, 'V_mind': False, 'V_consid': False, 'V_book': False, 'V_hor': False, 'V_prom': False, 'V_energy': False, 'V_quiet': False, 'V_warm': False, 'V_fil': False, 'V_suspens': False, 'V_remark': False, 'V_provid': False, 'V_word': False, 'V_satisfy': False, 'V_sit': False, 'V_complex': False, 'V_viol': False, 'V_ey': False, 'V_col': False, 'V_im': False, 'V_flat': False, 'V_help': False, 'V_quirky': False, 'V_debut': False, 'V_although': False, 'V_aw': False, 'V_modern': False, 'V_men': False, 'V_sequel': False, 'V_now': False, 'V_suff': False, 'V_process': False, 'V_diff': False, 'V_els': False, 'V_exceiv': False, 'V_half': False, 'V_storytel': False, 'V_sev': False, 'V_hit': False, 'V_hap': False, 'V_chang': False, 'V_psycholog': False, 'V_french': False, 'V_sequ': False, 'V_er': False, 'V_extrem': False, 'V_forget': False, 'V_eith': False, 'V_bar': False, 'V_cas': False, 'V_fat': False, 'V_slow': False, 'V_deserv': False, 'V_mystery': False, 'V_stuff': False, 'V_john': False, 'V_gag': False, 'V_neith': False, 'V_sav': False, 'V_slight': False, 'V_excit': False, 'V_satir': False, 'V_sign': False, 'V_somewh': False, 'V_sid': False, 'V_everyon': False, 'V_clear': False, 'V_project': False, 'V_mast': False, 'V_deep': False, 'V_smal': False, 'V_head': False, 'V_convint': False, 'V_honest': False, 'V_de': False, 'V_result': False, 'V_expl': False, 'V_bril': False, 'V_fair': False, 'V_mark': False, 'V_situ': False, 'V_chil': False, 'V_gam': False, 'V_involv': False, 'V_form': False, 'V_begin': False, 'V_sort': False, 'V_shock': False, 'V_next': False, 'V_found': False, 'V_numb': False, 'V_detail': False, 'V_affect': False, 'V_dea': False, 'V_earnest': False, 'V_wheth': False, 'V_conceiv': False, 'V_camer': False, 'V_hold': False, 'V_must': False, 'V_oper': False, 'V_stand': False, 'V_black': False, 'V_kil': False, 'V_rec': False, 'V_rid': False, 'V_himself': False, 'V_hand': False, 'V_sound': False, 'V_hero': False, 'V_dur': False, 'V_deeply': False, 'V_execut': False, 'V_larg': False, 'V_beyond': False, 'V_un': False, 'V_mot': False, 'V_nic': False, 'V_past': False, 'V_occas': False, 'V_adult': False, 'V_along': False, 'V_tragedy': False, 'V_nor': False, 'V_bal': False, 'V_friend': False, 'V_understand': False, 'V_at': False, 'V_left': False, 'V_soc': False, 'V_got': False, 'V_already': False, 'V_typ': False, 'V_poor': False, 'V_definit': False, 'V_terr': False, 'V_import': False, 'V_stat': False, 'V_dead': False, 'V_wast': False, 'V_bland': False, 'V_int': False, 'V_grow': False, 'V_lit': False, 'V_genuin': False, 'V_idea': False, 'V_weird': False, 'V_disappoint': False, 'V_mer': False, 'V_imposs': False, 'V_ear': False, 'V_against': False, 'V_valu': False, 'V_mix': False, 'V_tv': False, 'V_mil': True, 'V_cent': False, 'V_pur': False, 'V_mood': False, 'V_formul': False, 'V_stag': False, 'V_read': False, 'V_dream': False, 'V_dumb': False, 'V_allow': False, 'V_ex': False, 'V_abov': False, 'V_qual': False, 'V_edit': False, 'V_deal': False, 'V_carry': False, 'V_excel': False, 'V_fir': False, 'V_subtl': False, 'V_attract': False, 'V_examin': False, 'V_cold': False, 'V_achiev': False, 'V_rest': False, 'V_combin': False, 'V_gorg': False, 'V_develop': False, 'V_ii': False, 'V_admir': False, 'V_wait': False, 'V_michael': False, 'V_secret': False, 'V_follow': False, 'V_adapt': False, 'V_fantasy': False, 'V_tast': False, 'V_dog': False, 'V_mild': False, 'V_nam': False, 'V_appear': False, 'V_los': False, 'V_overal': False, 'V_soap': False, 'V_approach': False, 'V_dec': True, 'V_happy': False, 'V_damn': False, 'V_actress': False, 'V_exploit': False, 'V_grac': False, 'V_told': False, 'V_non': False, 'V_refresh': False, 'V_tir': False, 'V_hug': False, 'V_difficult': False, 'V_thorough': False, 'V_four': False, 'V_unlik': False, 'V_rock': False, 'V_intens': False, 'V_pul': False, 'V_fear': False, 'V_thin': False, 'V_emerg': False, 'V_monst': False, 'V_rememb': False, 'V_otherw': False, 'V_low': False, 'V_remind': False, 'V_top': False, 'V_pretenty': False, 'V_lost': False, 'V_inv': False, 'V_credit': False, 'V_vivid': False, 'V_episod': False, 'V_amb': False, 'V_stupid': False, 'V_insid': False, 'V_escap': False, 'V_observ': False, 'V_fight': False, 'V_tedy': False, 'V_sustain': False, 'V_dat': False, 'V_ep': False, 'V_desp': False, 'V_murd': False, 'V_stev': False, 'V_standard': False, 'V_eq': False, 'V_york': False, 'V_cartoon': False, 'V_exact': False, 'V_break': False, 'V_second': False, 'V_ut': False, 'V_soul': False, 'V_coming-of-age': False, 'V_issu': False, 'V_distinct': False, 'V_novel': False, 'V_lat': False, 'V_gon': False, 'V_unexpect': False, 'V_plenty': False, 'V_themselv': False, 'V_wrong': False, 'V_mediocr': False, 'V_frust': False, 'V_skil': False, 'V_robert': False, 'V_engross': False, 'V_strange': False, 'V_job': False, 'V_mag': False, 'V_fig': False, 'V_amount': False, 'V_vary': False, 'V_der': False, 'V_poign': False, 'V_hat': False, 'V_cheap': False, 'V_drag': False, 'V_bear': False, 'V_fit': False, 'V_releas': False, 'V_pretend': False, 'V_horr': False, 'V_period': False, 'V_term': False, 'V_writer-direct': False, 'V_thank': False, 'V_respect': False, 'V_depress': False, 'V_ess': False, 'V_busy': False, 'V_cool': False, 'V_air': False, 'V_hous': False, 'V_subst': False, 'V_disney': False, 'V_portray': False, 'V_recommend': False, 'V_scary': False, 'V_quick': False, 'V_suppos': False, 'V_journey': False, 'V_unfortun': False, 'V_talk': False, 'V_david': False, 'V_cap': False, 'V_cho': False, 'V_ask': False, 'V_pop': False, 'V_welcom': False, 'V_kiss': False, 'V_park': False, 'V_unsettl': False, 'V_joy': False, 'V_decid': False, 'V_singl': False, 'V_intim': False, 'V_min': False, 'V_pay': False, 'V_sharp': False, 'V_grant': False, 'V_auth': False, 'V_city': False, 'V_spy': False, 'V_express': False, 'V_straight': False, 'V_plain': False, 'V_craft': False, 'V_middl': False, 'V_crit': False, 'V_until': False, 'V_id': False, 'V_main': False, 'V_spielberg': False, 'V_excess': False, 'V_ris': False, 'V_remak': False, 'V_latest': False, 'V_unev': False, 'V_brit': False, 'V_stay': False, 'V_sensit': False, 'V_scor': False, 'V_body': False, 'V_ste': False, 'V_ug': False, 'V_celebr': False, 'V_mayb': False, 'V_absurd': False, 'V_heavy': False, 'V_coupl': False, 'V_pack': False, 'V_revel': False, 'V_ment': False, 'V_av': False, 'V_commun': False, 'V_gentl': False, 'V_return': False, 'V_cop': False, 'V_tradit': False, 'V_impact': False, 'V_witty': False, 'V_opportun': False, 'V_creepy': False, 'V_atmosph': False, 'V_hel': False, 'V_reson': False, 'V_fram': False, 'V_crush': False, 'V_saw': False, 'V_construct': False, 'V_walk': False, 'V_\\\\': False, 'V_*': False, 'V_doubt': False, 'V_goofy': False, 'V_troubl': False, 'V_comply': False, 'V_wat': False, 'V_fast': False, 'V_triumph': False, 'V_road': False, 'V_edg': False, 'V_throughout': False, 'V_behind': False, 'V_rac': False, 'V_shar': False, 'V_sci-f': False, 'V_upon': False, 'V_routin': False, 'V_trap': False, 'V_fest': False, 'V_someon': False, 'V_prim': False, 'V_hol': False, 'V_americ': False, 'V_divert': False, 'V_target': False, 'V_decad': False, 'V_old-fashion': False, 'V_manip': False, 'V_wors': False, 'V_conv': False, 'V_fem': False, 'V_reach': False, 'V_dar': False, 'V_improv': False, 'V_includ': False, 'V_rely': False, 'V_speak': False, 'V_absolv': False, 'V_purpos': False, 'V_howev': False, 'V_amaz': False, 'V_crazy': False, 'V_in': False, 'V_determin': False, 'V_wish': False, 'V_maj': False, 'V_prevy': False, 'V_admit': False, 'V_felt': False, 'V_fut': False, 'V_child': False, 'V_acc': False, 'V_tot': False, 'V_limit': False, 'V_skin': False, 'V_dry': False, 'V_fav': False, 'V_ir': False, 'V_match': False, 'V_confus': False, 'V_country': False, 'V_william': False, 'V_root': False, 'V_adam': False, 'V_empty': False, 'V_across': False, 'V_altern': False, 'V_ind': False, 'V_masterpiec': False, 'V_urb': False, 'V_medit': False, 'V_chas': False, 'V_leg': False, 'V_blu': False, 'V_aim': False, 'V_green': False, 'V_wear': False, 'V_app': False, 'V_seat': False, 'V_philosoph': False, 'V_consist': False, 'V_shoot': False, 'V_doing': False, 'V_reward': False, 'V_suit': False, 'V_loud': False, 'V_ent': False, 'V_chem': False, 'V_night': False, 'V_challeng': False, 'V_among': False, 'V_awkward': False, 'V_list': False, 'V_sport': False, 'V_queen': False, 'V_sham': False, 'V_ensembl': False, 'V_gay': False, 'V_eleg': False, 'V_provoc': False, 'V_suggest': False, 'V_draw': False, 'V_beat': False, 'V_frequ': False, 'V_maintain': False, 'V_design': False, 'V_absorb': False, 'V_perhap': False, 'V_concern': False, 'V_grand': False, 'V_apart': False, 'V_unfunny': False, 'V_deft': False, 'V_battl': False, 'V_superf': False, 'V_contemp': False, 'V_dep': False, 'V_2': False, 'V_whit': False, 'V_room': False, 'V_apprecy': False, 'V_sexy': False, 'V_conflict': False, 'V_soph': False, 'V_trag': False, 'V_collect': False, 'V_marvel': False, 'V_dant': False, 'V_continu': False, 'V_unus': False, 'V_lam': False, 'V_sick': False, 'V_georg': False, 'V_overcom': False, 'V_company': False, 'V_glory': False, 'V_song': False, 'V_alon': False, 'V_jackson': False, 'V_aly': False, 'V_catch': False, 'V_mal': False, 'V_red': False, 'V_worthy': False, 'V_metaph': False, 'V_tom': False, 'V_bond': False, 'V_90': False, 'V_wind': False, 'V_&': False, 'V_burn': False, 'V_osc': False, 'V_ye': False, 'V_broth': False, 'V_chan': False, 'V_money': False, 'V_sea': False, 'V_heav': False, 'V_school': False, 'V_fish': False, 'V_evil': False, 'V_univers': False, 'V_weak': False, 'V_desir': False, 'V_offend': False, 'V_requir': False, 'V_wis': False, 'V_pet': False, 'V_grip': False, 'V_intellect': False, 'V_answ': False, 'V_argu': False, 'V_disgu': False, 'V_explod': False, 'V_surv': False, 'V_demonst': False, 'V_poet': False, 'V_repres': False, 'V_sandl': False, 'V_brain': False, 'V_necess': False, 'V_techn': False, 'V_toward': False, 'V_moth': False, 'V_paint': False, 'V_guess': False, 'V_poetry': False, 'V_meand': False, 'V_conclud': False, 'V_brown': False, 'V_ring': False, 'V_photograph': False, 'V_unfold': False, 'V_fath': False, 'V_acceiv': False, 'V_shallow': False, 'V_cred': False, 'V_dist': False, 'V_colleg': False, 'V_comfort': False, \"B_'30s_'40s\": False, \"B_'80s_hatosy\": False, 'B_10-course_banquet': False, 'B_18-year-old_mistress': False, 'B_1950_dor': False, 'B_1959_godzill': False, 'B_1986_harlem': False, 'B_50-something_lovebird': False, 'B_75-minute_sampl': False, 'B_\\\\_*': False, 'B_a.e.w_mason': False, 'B_abbot_ernest': False, 'B_abd_malik': False, 'B_abderrahm_sissako': False, 'B_achero_mana': False, 'B_acr_haut': False, 'B_admin_compl': False, 'B_adry_brody': False, 'B_age-wis_caviezel': False, 'B_alain_choquart': False, 'B_alchem_transmogr': False, 'B_all-night_tequil': False, 'B_american-russ_armageddon': False, 'B_ann_mougl': False, 'B_arithmet_camera': False, 'B_artless_sytl': False, 'B_as-it_thinks-it-': False, 'B_as-nasty_as-it': False, 'B_ash_wednesday': False, 'B_aur_christelle': False, 'B_auschwitz_ii-birkenau': False, 'B_avon_leer': False, 'B_avuncul_chortl': False, 'B_ba_murdock': False, 'B_baloney_biz': False, 'B_bang-bang_shoot-em-up': False, 'B_be-all-end-all_modern-office': False, 'B_beachcomb_verismo': False, 'B_beav_butthead': False, 'B_beb_neuwir': False, 'B_bedknob_broomstick': False, 'B_bedsid_vigil': False, 'B_been-told-a_thousand-times': False, 'B_behind-the-scenes_navel-gazing': False, 'B_beloved-major_character-who-shall': False, 'B_bentley_hudson': False, 'B_bettany\\\\/mcdowell_hard-ey': False, 'B_biggy_tupac': False, 'B_bitchy_frol': False, 'B_blanchet_ribis': False, 'B_bluto_blutarsky': False, 'B_bmws_seasid': False, 'B_boogaloo_oversex': False, 'B_brain-deadening_hangov': False, 'B_brazil-like_hyper-real': False, 'B_break-ups_hook-ups': False, 'B_breckin_mey': False, 'B_breheny_lens': False, 'B_brent_hanley': False, 'B_broach_neo-augustinian': False, 'B_brothers-style_down-and-dirty': False, 'B_brussel_sprouts': False, 'B_bubb_ho-tep': False, 'B_buckaroo_banza': False, 'B_bullfight_comatos': False, 'B_bump-in_the-night': False, 'B_burkin_faso': False, 'B_busby_berkeley': False, 'B_buscem_rosario': False, 'B_bustl_atop': False, 'B_bv_re-voiced': False, 'B_byplay_bick': False, 'B_byron_luth': False, 'B_cafeter_goulash': False, 'B_cand_yakusho': False, 'B_cattl_prod': False, 'B_channel-style_antholog': False, 'B_character-who-shall_remain-nameless': False, 'B_cheech_chong': False, 'B_cherry_orchard': False, 'B_chicanery_self-delusion': False, 'B_chirpy_songbird': False, 'B_christine_sylvy': False, 'B_churl_begrudg': False, 'B_clariss_dalloway': False, 'B_closed-door_hanky-panky': False, 'B_clyd_barrow': False, 'B_colg_u': False, 'B_college-spawned_colg': False, 'B_comatos_ballerina': False, 'B_comin_ya': False, 'B_contenty_config': False, 'B_cor-blimey-luv-a-duck_cockney': False, 'B_cornpon_cos': False, 'B_cos_nostr': False, 'B_couch_dr.': False, 'B_cough_fidget': False, 'B_coward_autocrit': False, 'B_cremator_chimney': False, 'B_crypt_mist': False, 'B_culprit_early-on': False, 'B_cynd_laup': False, 'B_d.w._griffi': False, 'B_decent-enough_nail-biter': False, 'B_deficit_flim-flam': False, 'B_dehum_ego-destroying': False, 'B_dej_vu': False, 'B_delinqu_paperback': False, 'B_di_napol': False, 'B_director-chef_gabriel': False, 'B_disapprov_justin': False, 'B_disease-of_the-week': False, 'B_disease-of-the-week_small-screen': False, 'B_disloy_satyr': False, 'B_disobedy_anti-war': False, 'B_djeinab_diop': False, 'B_doing-it-for_the-cash': False, 'B_donn_flor': False, 'B_doodl_steambo': False, 'B_doofus-on_the-loos': False, 'B_double-pistoled_ballistic-pyrotechn': False, 'B_dov_kosashvil': False, 'B_drast_iconograph': False, 'B_dreamlik_ecstasy': False, 'B_drench_swoony': False, 'B_dust-caked_stagn': False, 'B_dusty_leatherbound': False, 'B_eagl_carpet': False, 'B_edmund_mcwilliams': False, 'B_electrocut_dismemb': False, 'B_elfry_jelinek': False, 'B_elimin_behead': False, 'B_embalm_half-assed': False, 'B_ennu_denud': False, 'B_envy_hijack': False, 'B_eponym_1980': False, 'B_erin_brockovich': False, 'B_ernest_tron': False, 'B_esteem_writer-act': False, 'B_evacu_none-too-funny': False, 'B_evanesc_seamless': False, 'B_everlyn_samp': False, 'B_every-joke-has_been-told-a': False, 'B_eye-filling_wide-screen': False, 'B_family-oriented_non-disney': False, 'B_fang-bar_lullaby': False, 'B_fast-edit_hopped-up': False, 'B_flush_testosteron': False, 'B_foo_yung': False, 'B_forem_barking-mad': False, 'B_formid_arithmet': False, 'B_forrest_gump': False, 'B_freewheel_trash-cinema': False, 'B_froth_ex-girlfriend': False, 'B_fuhrm_posthum': False, 'B_future-world_holograph': False, 'B_gabbiest_giant-screen': False, 'B_galinsky_hawley': False, 'B_gandalf_wind-tunnel': False, 'B_gang-infested_east-vs': False, 'B_gaunt_silver-haired': False, 'B_geneviev_leplouff': False, 'B_geograph_displac': False, 'B_giovann_psychy': False, 'B_goldm_bolado': False, 'B_grang_gaug': False, 'B_grenobl_genev': False, 'B_groan-to-guffaw_ratio': False, 'B_grouchy_ayatollah': False, 'B_gruel_time-consuming': False, 'B_gryffind_scarf': False, 'B_gulz_jagjit': False, 'B_gur_dosha': False, 'B_hairlin_weath': False, 'B_handgun_bmws': False, 'B_hard-sell_image-mongering': False, 'B_harp_media-constructed': False, 'B_harvey_weinstein': False, 'B_hatfield_hick': False, 'B_haut_cout': False, 'B_hect_homilet': False, 'B_heedless_impetu': False, 'B_heideg_nietzsche-referencing': False, 'B_heretof_unfathom': False, 'B_hermocr_leontin': False, 'B_hidebound_movie-making': False, 'B_high-wattage_brainpow': False, 'B_hippopotam_ballerin': False, 'B_hitler-study_snid': False, 'B_homework_soak': False, 'B_hong_kong': False, 'B_hoolig_double-barreled': False, 'B_hossein_amin': False, 'B_hottest_hippest': False, 'B_huckst_lapel': False, 'B_hyster_playst': False, 'B_i-heard-a-joke_at-a-frat-party': False, 'B_ib_hjels': False, 'B_ill-timed_antitrust': False, 'B_ill-wrought_hypothes': False}\n",
      "\tPrecision\tRecall\t\tF1\n",
      "0 \t      0.379      0.283      0.324\n",
      "1 \t      0.425      0.459      0.441\n",
      "2 \t      0.294      0.276      0.285\n",
      "3 \t      0.434      0.483      0.457\n",
      "4 \t      0.428      0.409      0.418\n",
      "  |      0      1      2      3      4 |\n",
      "--+------------------------------------+\n",
      "0 |  <3.6%>  3.1%   1.4%   1.0%   0.3% |\n",
      "1 |   4.8% <11.9%>  6.2%   3.8%   1.3% |\n",
      "2 |   2.0%   5.0%  <5.3%>  4.2%   1.5% |\n",
      "3 |   1.4%   4.8%   5.1% <13.2%>  5.8% |\n",
      "4 |   0.7%   1.1%   1.2%   5.2%  <6.1%>|\n",
      "--+------------------------------------+\n",
      "(row = reference; col = test)\n",
      "\n",
      "Accuracy: 0.400390625\n"
     ]
    }
   ],
   "source": [
    "from nltk.collocations import *\n",
    "bigram_measures = nltk.collocations.BigramAssocMeasures()\n",
    "\n",
    "all_words_list = [word for text in word_tokens for word in text]\n",
    "all_words = nltk.FreqDist(all_words_list)\n",
    "# get the 2000 most frequently appearing keywords in the corpus\n",
    "word_items = all_words.most_common(1000)\n",
    "word_features = [word for (word,count) in word_items]\n",
    "# create the bigram finder on all the words in sequence\n",
    "print(all_words_list[:50])\n",
    "finder = BigramCollocationFinder.from_words(all_words_list)\n",
    "\n",
    "# define the top 500 bigrams using the chi squared measure\n",
    "bigram_features = finder.nbest(bigram_measures.chi_sq, 500)\n",
    "print(bigram_features[:50])\n",
    "\n",
    "\n",
    "# define features that include words as before\n",
    "# add the most frequent significant bigrams\n",
    "# this function takes the list of words in a document as an argument and returns a feature dictionary\n",
    "# it depends on the variables word_features and bigram_features\n",
    "def bigram_document_features(document, word_features, bigram_features):\n",
    "    document_words = set(document)\n",
    "    document_bigrams = nltk.bigrams(document)\n",
    "    features = {}\n",
    "    for word in word_features:\n",
    "        features['V_{}'.format(word)] = (word in document_words)\n",
    "    for bigram in bigram_features:\n",
    "        features['B_{}_{}'.format(bigram[0], bigram[1])] = (bigram in document_bigrams)\n",
    "    return features\n",
    "\n",
    "# use this function to create feature sets for all sentences\n",
    "bigram_featuresets = [(bigram_document_features(text, word_features, bigram_features), label) for text, label in zip(word_tokens, labels)]\n",
    "# number of features for document 0\n",
    "print(len(bigram_featuresets[0][0].keys()))\n",
    "\n",
    "# features in document 0\n",
    "print(bigram_featuresets[0][0])\n",
    "\n",
    "nb_bi=run_nb(bigram_featuresets,test_train)\n",
    "#explain_model(nb_uni)\n",
    "# perform the cross-validation on the featuresets with word features and generate accuracy\n",
    "num_folds = 5\n",
    "\n",
    "#run_cross_validation_nb(num_folds, bigram_featuresets)"
   ],
   "metadata": {
    "collapsed": false,
    "pycharm": {
     "name": "#%%\n"
    }
   }
  },
  {
   "cell_type": "code",
   "execution_count": 65,
   "outputs": [
    {
     "name": "stdout",
     "output_type": "stream",
     "text": [
      "['pumpkin', 'struts', 'about', 'with', 'cour', 'pin', 'it', 'huckst', 'lapel', 'whil', 'yellow', 'streak', 'mil', 'wid', 'dec', 'it', 'back', 'mak', 'no', 'mistak', 'iv', 'xtc', 'piano', 'teach', 'not', 'an', 'easy', 'i', 'was', 'hop', 'would', 'be', 'sleazy', 'fun', 'but', 'was', 'neith', 'word', 'com', 'mind', 'whil', 'watch', 'er', 'rohm', 'tribut', 'cour', 'scot', 'lady', 'paint', 'for']\n",
      "[(\"'30s\", \"'40s\"), (\"'80s\", 'hatosy'), ('10-course', 'banquet'), ('18-year-old', 'mistress'), ('1950', 'dor'), ('1959', 'godzill'), ('1986', 'harlem'), ('50-something', 'lovebird'), ('75-minute', 'sampl'), ('\\\\', '*'), ('a.e.w', 'mason'), ('abbot', 'ernest'), ('abd', 'malik'), ('abderrahm', 'sissako'), ('achero', 'mana'), ('acr', 'haut'), ('admin', 'compl'), ('adry', 'brody'), ('age-wis', 'caviezel'), ('alain', 'choquart'), ('alchem', 'transmogr'), ('all-night', 'tequil'), ('american-russ', 'armageddon'), ('ann', 'mougl'), ('arithmet', 'camera'), ('artless', 'sytl'), ('as-it', 'thinks-it-'), ('as-nasty', 'as-it'), ('ash', 'wednesday'), ('aur', 'christelle'), ('auschwitz', 'ii-birkenau'), ('avon', 'leer'), ('avuncul', 'chortl'), ('ba', 'murdock'), ('baloney', 'biz'), ('bang-bang', 'shoot-em-up'), ('be-all-end-all', 'modern-office'), ('beachcomb', 'verismo'), ('beav', 'butthead'), ('beb', 'neuwir'), ('bedknob', 'broomstick'), ('bedsid', 'vigil'), ('been-told-a', 'thousand-times'), ('behind-the-scenes', 'navel-gazing'), ('beloved-major', 'character-who-shall'), ('bentley', 'hudson'), ('bettany\\\\/mcdowell', 'hard-ey'), ('biggy', 'tupac'), ('bitchy', 'frol'), ('blanchet', 'ribis')]\n",
      "1504\n",
      "pumpkin struts about with `` courage '' pinned to its huckster lapel while a yellow streak a mile wide decorates its back .\n",
      "num nouns 9\n",
      "num verbs 1\n",
      "num adjectives 2\n",
      "num adverbs 1\n",
      "\tPrecision\tRecall\t\tF1\n",
      "0 \t      0.378      0.283      0.323\n",
      "1 \t      0.435      0.446      0.440\n",
      "2 \t      0.263      0.280      0.271\n",
      "3 \t      0.423      0.434      0.429\n",
      "4 \t      0.418      0.432      0.425\n",
      "  |      0      1      2      3      4 |\n",
      "--+------------------------------------+\n",
      "0 |  <3.6%>  3.0%   1.4%   1.1%   0.3% |\n",
      "1 |   4.4% <11.6%>  5.8%   3.7%   1.1% |\n",
      "2 |   2.6%   5.5%  <5.4%>  5.2%   1.8% |\n",
      "3 |   1.2%   4.6%   5.0% <11.8%>  5.3% |\n",
      "4 |   0.9%   1.1%   1.6%   5.4%  <6.5%>|\n",
      "--+------------------------------------+\n",
      "(row = reference; col = test)\n",
      "\n",
      "Accuracy: 0.38828125\n"
     ]
    }
   ],
   "source": [
    "all_words_list = [word for text in word_tokens for word in text]\n",
    "all_words = nltk.FreqDist(all_words_list)\n",
    "# get the 2000 most frequently appearing keywords in the corpus\n",
    "word_items = all_words.most_common(1000)\n",
    "word_features = [word for (word,count) in word_items]\n",
    "# create the bigram finder on all the words in sequence\n",
    "print(all_words_list[:50])\n",
    "finder = BigramCollocationFinder.from_words(all_words_list)\n",
    "\n",
    "# define the top 500 bigrams using the chi squared measure\n",
    "bigram_features = finder.nbest(bigram_measures.chi_sq, 500)\n",
    "print(bigram_features[:50])\n",
    "\n",
    "def POS_features(document, word_features, bigram_features):\n",
    "    document_words = set(document)\n",
    "    tagged_words = nltk.pos_tag(document)\n",
    "    document_bigrams = nltk.bigrams(document)\n",
    "    features = {}\n",
    "    for word in word_features:\n",
    "        features['contains({})'.format(word)] = (word in document_words)\n",
    "    for bigram in bigram_features:\n",
    "        features['B_{}_{}'.format(bigram[0], bigram[1])] = (bigram in document_bigrams)\n",
    "    numNoun = 0\n",
    "    numVerb = 0\n",
    "    numAdj = 0\n",
    "    numAdverb = 0\n",
    "    for (word, tag) in tagged_words:\n",
    "        if tag.startswith('N'): numNoun += 1\n",
    "        if tag.startswith('V'): numVerb += 1\n",
    "        if tag.startswith('J'): numAdj += 1\n",
    "        if tag.startswith('R'): numAdverb += 1\n",
    "    features['nouns'] = numNoun\n",
    "    features['verbs'] = numVerb\n",
    "    features['adjectives'] = numAdj\n",
    "    features['adverbs'] = numAdverb\n",
    "    return features\n",
    "\n",
    "# define feature sets using this function\n",
    "POS_featuresets = [(POS_features(text, word_features,bigram_features), label) for text, label in zip(word_tokens, labels)]\n",
    "\n",
    "# number of features for document 0\n",
    "print(len(POS_featuresets[0][0].keys()))\n",
    "\n",
    "# the first sentence\n",
    "print(texts[0])\n",
    "# the pos tag features for this sentence\n",
    "print('num nouns', POS_featuresets[0][0]['nouns'])\n",
    "print('num verbs', POS_featuresets[0][0]['verbs'])\n",
    "print('num adjectives', POS_featuresets[0][0]['adjectives'])\n",
    "print('num adverbs', POS_featuresets[0][0]['adverbs'])\n",
    "\n",
    "\n",
    "nb_bi=run_nb(POS_featuresets,test_train)\n",
    "#explain_model(nb_uni)\n",
    "# perform the cross-validation on the featuresets with word features and generate accuracy\n",
    "num_folds = 5\n",
    "\n",
    "#run_cross_validation_nb(num_folds, POS_featuresets)"
   ],
   "metadata": {
    "collapsed": false,
    "pycharm": {
     "name": "#%%\n"
    }
   }
  },
  {
   "cell_type": "code",
   "execution_count": 32,
   "outputs": [
    {
     "data": {
      "text/plain": "[('now', 'RB'),\n ('here', 'RB'),\n (\"'s\", 'VBZ'),\n ('a', 'DT'),\n ('sadistic', 'JJ'),\n ('bike', 'NN'),\n ('flick', 'NN'),\n ('that', 'WDT'),\n ('would', 'MD'),\n ('have', 'VB'),\n ('made', 'VBN'),\n ('vittorio', 'NN'),\n ('de', 'IN'),\n ('sica', 'FW'),\n ('proud', 'NN'),\n ('.', '.')]"
     },
     "execution_count": 32,
     "metadata": {},
     "output_type": "execute_result"
    }
   ],
   "source": [
    "# nn_tagger=nltk.PerceptronTagger()\n",
    "# taggedtextPerceptron = [nn_tagger.tag(t) for t in word_tokens]\n",
    "# taggedtextPerceptron[0]"
   ],
   "metadata": {
    "collapsed": false,
    "pycharm": {
     "name": "#%%\n"
    }
   }
  },
  {
   "cell_type": "code",
   "execution_count": 67,
   "outputs": [
    {
     "name": "stdout",
     "output_type": "stream",
     "text": [
      "['pumpkin', 'struts', 'about', 'with', 'cour', 'pin', 'it', 'huckst', 'lapel', 'whil', 'yellow', 'streak', 'mil', 'wid', 'dec', 'it', 'back', 'mak', 'no', 'mistak', 'iv', 'xtc', 'piano', 'teach', 'not', 'an', 'easy', 'i', 'was', 'hop', 'would', 'be', 'sleazy', 'fun', 'but', 'was', 'neith', 'word', 'com', 'mind', 'whil', 'watch', 'er', 'rohm', 'tribut', 'cour', 'scot', 'lady', 'paint', 'for']\n",
      "1512\n",
      "({'contains(as)': False, 'contains(but)': False, 'contains(with)': True, 'contains(for)': False, 'contains(thi)': False, 'contains(an)': False, 'contains(it)': True, 'contains(you)': False, 'contains(on)': False, \"contains(n't)\": False, 'contains(be)': False, 'contains(not)': False, 'contains(lik)': False, 'contains(mor)': False, 'contains(by)': False, 'contains(about)': True, 'contains(ar)': False, 'contains(al)': False, 'contains(hav)': False, 'contains(from)': False, 'contains(than)': False, 'contains(mak)': False, 'contains(act)': False, 'contains(his)': False, 'contains(ev)': False, 'contains(i)': False, 'contains(so)': False, 'contains(if)': False, 'contains(story)': False, 'contains(or)': False, 'contains(charact)': False, 'contains(what)': False, 'contains(most)': False, 'contains(ther)': False, 'contains(out)': False, 'contains(direct)': False, 'contains(real)': False, 'contains(who)': False, 'contains(tim)': False, 'contains(just)': False, 'contains(too)': False, 'contains(doe)': False, 'contains(into)': False, 'contains(com)': False, 'contains(up)': False, 'contains(wil)': False, 'contains(work)': False, 'contains(us)': False, 'contains(good)': False, 'contains(comedy)': False, 'contains(can)': False, 'contains(no)': False, 'contains(much)': False, 'contains(perform)': False, 'contains(feel)': False, 'contains(her)': False, 'contains(som)': False, 'contains(way)': False, 'contains(funny)': False, 'contains(lov)': False, 'contains(hum)': False, 'contains(their)': False, 'contains(he)': False, 'contains(off)': False, 'contains(look)': False, 'contains(littl)': False, 'contains(get)': False, 'contains(man)': False, 'contains(yo)': False, 'contains(they)': False, 'contains(nev)': False, 'contains(dram)': False, 'contains(do)': False, 'contains(very)': False, 'contains(would)': False, 'contains(which)': False, 'contains(tak)': False, 'contains(we)': False, 'contains(been)': False, 'contains(watch)': False, 'contains(may)': False, 'contains(end)': False, 'contains(bad)': False, 'contains(seem)': False, 'contains(enough)': False, 'contains(thing)': False, 'contains(any)': False, 'contains(giv)': False, 'contains(was)': False, 'contains(when)': False, 'contains(see)': False, 'contains(entertain)': False, 'contains(lif)': False, 'contains(mad)': False, 'contains(best)': False, 'contains(new)': False, 'contains(movy)': False, 'contains(them)': False, 'contains(could)': False, 'contains(whil)': True, 'contains(mat)': False, 'contains(plot)': False, 'contains(wel)': False, 'contains(tal)': False, 'contains(oth)': False, 'contains(how)': False, 'contains(through)': False, 'contains(film)': False, 'contains(interest)': False, 'contains(play)': False, 'contains(someth)': False, 'contains(audy)': False, 'contains(should)': False, 'contains(sens)': False, 'contains(many)': False, 'contains(year)': False, 'contains(bet)': False, 'contains(cast)': False, 'contains(rom)': False, 'contains(without)': False, 'contains(both)': False, 'contains(own)': False, 'contains(thos)': False, 'contains(vis)': False, 'contains(art)': False, 'contains(filmmak)': False, 'contains(long)': False, 'contains(emot)': False, 'contains(fin)': False, 'contains(being)': False, 'contains(noth)': False, 'contains(gre)': False, 'contains(peopl)': False, 'contains(stil)': False, 'contains(two)': False, 'contains(cinem)': False, 'contains(every)': False, 'contains(hard)': False, 'contains(also)': False, 'contains(car)': False, 'contains(big)': False, 'contains(ov)': False, 'contains(pict)': False, 'contains(cre)': False, 'contains(mom)': False, 'contains(surpr)': False, 'contains(might)': False, 'contains(docu)': False, 'contains(am)': False, 'contains(though)': False, 'contains(such)': False, 'contains(pow)': False, 'contains(fun)': False, 'contains(beauty)': False, 'contains(first)': False, 'contains(find)': False, 'contains(far)': False, 'contains(enjoy)': False, 'contains(bit)': False, 'contains(view)': False, 'contains(want)': False, 'contains(kind)': False, 'contains(liv)': False, 'contains(show)': False, 'contains(less)': False, 'contains(anoth)': False, 'contains(laugh)': False, 'contains(minut)': False, 'contains(script)': False, 'contains(tru)': False, 'contains(few)': False, 'contains(between)': False, 'contains(sery)': False, 'contains(scen)': False, 'contains(lot)': False, 'contains(charm)': False, 'contains(ultim)': False, 'contains(oft)': False, 'contains(styl)': False, 'contains(lack)': False, 'contains(becaus)': False, 'contains(world)': False, 'contains(quit)': False, 'contains(;)': False, 'contains(nee)': False, 'contains(think)': False, 'contains(yet)': False, 'contains(gen)': False, 'contains(ful)': False, 'contains(down)': False, 'contains(thes)': False, 'contains(famy)': False, 'contains(pleas)': False, 'contains(wom)': False, 'contains(mov)': False, 'contains(heart)': False, 'contains(turn)': False, 'contains(origin)': False, 'contains(wer)': False, 'contains(keep)': False, 'contains(thriller)': False, 'contains(aft)': False, 'contains(almost)': False, 'contains(!)': False, 'contains(del)': False, 'contains(becom)': False, 'contains(know)': False, 'contains(old)': False, 'contains(hollywood)': False, 'contains(hist)': False, 'contains(rath)': False, 'contains(ca)': False, 'contains(mus)': False, 'contains(had)': False, 'contains(effect)': False, 'contains(my)': False, 'contains(wor)': False, 'contains(mess)': False, 'contains(point)': False, 'contains(easy)': False, 'contains(kid)': False, 'contains(the)': False, 'contains(writ)': False, 'contains(she)': False, 'contains(bef)': False, 'contains(me)': False, 'contains(expery)': False, 'contains(go)': False, 'contains(screen)': False, 'contains(seen)': False, 'contains(spec)': False, 'contains(sint)': False, 'contains(leav)': False, 'contains(piec)': False, 'contains(star)': False, 'contains(itself)': False, 'contains(set)': False, 'contains(back)': True, 'contains(subject)': False, 'contains(success)': False, 'contains(right)': False, 'contains(nat)': False, 'contains(pass)': False, 'contains(young)': False, 'contains(dark)': False, 'contains(then)': False, 'contains(wher)': False, 'contains(high)': False, 'contains(anim)': False, 'contains(cult)': False, 'contains(sil)': False, 'contains(dialog)': False, 'contains(part)': False, 'contains(person)': False, 'contains(say)': False, 'contains(intellig)': False, 'contains(fan)': False, 'contains(produc)': False, 'contains(hour)': False, 'contains(run)': False, 'contains(try)': False, 'contains(despit)': False, 'contains(plac)': False, 'contains(feat)': False, 'contains(flick)': False, 'contains(compel)': False, 'contains(imagin)': False, 'contains(wond)': False, 'contains(ont)': False, 'contains(fascin)': False, 'contains(our)': False, 'contains(rar)': False, 'contains(day)': False, 'contains(certain)': False, 'contains(sweet)': False, 'contains(touch)': False, 'contains(believ)': False, 'contains(problem)': False, 'contains(sad)': False, 'contains(spirit)': False, 'contains(sam)': False, 'contains(eng)': False, 'contains(class)': False, 'contains(predict)': False, 'contains(adv)': False, 'contains(did)': False, 'contains(again)': False, 'contains(least)': False, 'contains(fail)': False, 'contains(sometim)': False, 'contains(clev)': False, 'contains(war)': False, 'contains(last)': False, 'contains(cont)': False, 'contains(short)': False, 'contains(smart)': False, 'contains(put)': False, 'contains(thought)': False, 'contains(sex)': False, 'contains(sur)': False, 'contains(togeth)': False, 'contains(start)': False, 'contains(rel)': False, 'contains(prob)': False, 'contains(why)': False, 'contains(dul)': False, 'contains(bor)': False, 'contains(whol)': False, 'contains(perfect)': False, 'contains(nar)': False, 'contains(capt)': False, 'contains(anyon)': False, 'contains(going)': False, 'contains(hom)': False, 'contains(tel)': False, 'contains(od)': False, 'contains(serv)': False, 'contains(near)': False, 'contains(cut)': False, 'contains(wild)': False, 'contains(him)': False, 'contains(amus)': False, 'contains(away)': False, 'contains(expect)': False, 'contains(mem)': False, 'contains(pretty)': False, 'contains(anyth)': False, 'contains(teen)': False, 'contains(simply)': False, 'contains(prov)': False, 'contains(melodram)': False, 'contains(fac)': False, 'contains(reason)': False, 'contains(complet)': False, 'contains(delight)': False, 'contains(screenplay)': False, 'contains(titl)': False, 'contains(und)': False, 'contains(don)': False, 'contains(rol)': False, 'contains(effort)': False, 'contains(ap)': False, 'contains(famili)': False, 'contains(guy)': False, 'contains(polit)': False, 'contains(cal)': False, 'contains(inspir)': False, 'contains(everyth)': False, 'contains(pac)': False, 'contains(mr.)': False, 'contains(fal)': False, 'contains(entir)': False, 'contains(prem)': False, 'contains(genr)': False, 'contains(bring)': False, 'contains(sum)': False, 'contains(goe)': False, 'contains(light)': False, 'contains(mean)': False, 'contains(hop)': False, 'contains(lead)': False, 'contains(lin)': False, 'contains(obvy)': False, 'contains(girl)': False, 'contains(shot)': False, 'contains(alway)': False, 'contains(ag)': False, 'contains(hil)': False, 'contains(instead)': False, 'contains(ter)': False, 'contains(around)': False, 'contains(pres)': False, 'contains(ide)': False, 'contains(senty)': False, 'contains(flaw)': False, 'contains(attempt)': False, 'contains(rich)': False, 'contains(childr)': False, 'contains(win)': False, 'contains(pain)': False, 'contains(twist)': False, 'contains(fact)': False, 'contains(forc)': False, 'contains(el)': False, 'contains(poss)': False, 'contains(wit)': False, 'contains(video)': False, 'contains(ton)': False, 'contains(clos)': False, 'contains(tend)': False, 'contains(impress)': False, 'contains(ad)': False, 'contains(par)': False, 'contains(tre)': False, 'contains(portrait)': False, 'contains(simpl)': False, 'contains(abl)': False, 'contains(quest)': False, 'contains(clich)': False, 'contains(vert)': False, 'contains(espec)': False, 'contains(boy)': False, 'contains(whos)': False, 'contains(exerc)': False, 'contains(study)': False, 'contains(crim)': False, 'contains(bas)': False, 'contains(miss)': False, 'contains(strong)': False, 'contains(each)': False, 'contains(level)': False, 'contains(three)': False, 'contains(let)': False, 'contains(jok)': False, 'contains(particul)': False, 'contains(op)': False, 'contains(intrigu)': False, 'contains(insight)': False, 'contains(rev)': False, 'contains(pot)': False, 'contains(solid)': False, 'contains(fresh)': False, 'contains(remain)': False, 'contains(worst)': False, 'contains(tri)': False, 'contains(mind)': False, 'contains(consid)': False, 'contains(book)': False, 'contains(hor)': False, 'contains(prom)': False, 'contains(energy)': False, 'contains(quiet)': False, 'contains(warm)': False, 'contains(fil)': False, 'contains(suspens)': False, 'contains(remark)': False, 'contains(provid)': False, 'contains(word)': False, 'contains(satisfy)': False, 'contains(sit)': False, 'contains(complex)': False, 'contains(viol)': False, 'contains(ey)': False, 'contains(col)': False, 'contains(im)': False, 'contains(flat)': False, 'contains(help)': False, 'contains(quirky)': False, 'contains(debut)': False, 'contains(although)': False, 'contains(aw)': False, 'contains(modern)': False, 'contains(men)': False, 'contains(sequel)': False, 'contains(now)': False, 'contains(suff)': False, 'contains(process)': False, 'contains(diff)': False, 'contains(els)': False, 'contains(exceiv)': False, 'contains(half)': False, 'contains(storytel)': False, 'contains(sev)': False, 'contains(hit)': False, 'contains(hap)': False, 'contains(chang)': False, 'contains(psycholog)': False, 'contains(french)': False, 'contains(sequ)': False, 'contains(er)': False, 'contains(extrem)': False, 'contains(forget)': False, 'contains(eith)': False, 'contains(bar)': False, 'contains(cas)': False, 'contains(fat)': False, 'contains(slow)': False, 'contains(deserv)': False, 'contains(mystery)': False, 'contains(stuff)': False, 'contains(john)': False, 'contains(gag)': False, 'contains(neith)': False, 'contains(sav)': False, 'contains(slight)': False, 'contains(excit)': False, 'contains(satir)': False, 'contains(sign)': False, 'contains(somewh)': False, 'contains(sid)': False, 'contains(everyon)': False, 'contains(clear)': False, 'contains(project)': False, 'contains(mast)': False, 'contains(deep)': False, 'contains(smal)': False, 'contains(head)': False, 'contains(convint)': False, 'contains(honest)': False, 'contains(de)': False, 'contains(result)': False, 'contains(expl)': False, 'contains(bril)': False, 'contains(fair)': False, 'contains(mark)': False, 'contains(situ)': False, 'contains(chil)': False, 'contains(gam)': False, 'contains(involv)': False, 'contains(form)': False, 'contains(begin)': False, 'contains(sort)': False, 'contains(shock)': False, 'contains(next)': False, 'contains(found)': False, 'contains(numb)': False, 'contains(detail)': False, 'contains(affect)': False, 'contains(dea)': False, 'contains(earnest)': False, 'contains(wheth)': False, 'contains(conceiv)': False, 'contains(camer)': False, 'contains(hold)': False, 'contains(must)': False, 'contains(oper)': False, 'contains(stand)': False, 'contains(black)': False, 'contains(kil)': False, 'contains(rec)': False, 'contains(rid)': False, 'contains(himself)': False, 'contains(hand)': False, 'contains(sound)': False, 'contains(hero)': False, 'contains(dur)': False, 'contains(deeply)': False, 'contains(execut)': False, 'contains(larg)': False, 'contains(beyond)': False, 'contains(un)': False, 'contains(mot)': False, 'contains(nic)': False, 'contains(past)': False, 'contains(occas)': False, 'contains(adult)': False, 'contains(along)': False, 'contains(tragedy)': False, 'contains(nor)': False, 'contains(bal)': False, 'contains(friend)': False, 'contains(understand)': False, 'contains(at)': False, 'contains(left)': False, 'contains(soc)': False, 'contains(got)': False, 'contains(already)': False, 'contains(typ)': False, 'contains(poor)': False, 'contains(definit)': False, 'contains(terr)': False, 'contains(import)': False, 'contains(stat)': False, 'contains(dead)': False, 'contains(wast)': False, 'contains(bland)': False, 'contains(int)': False, 'contains(grow)': False, 'contains(lit)': False, 'contains(genuin)': False, 'contains(idea)': False, 'contains(weird)': False, 'contains(disappoint)': False, 'contains(mer)': False, 'contains(imposs)': False, 'contains(ear)': False, 'contains(against)': False, 'contains(valu)': False, 'contains(mix)': False, 'contains(tv)': False, 'contains(mil)': True, 'contains(cent)': False, 'contains(pur)': False, 'contains(mood)': False, 'contains(formul)': False, 'contains(stag)': False, 'contains(read)': False, 'contains(dream)': False, 'contains(dumb)': False, 'contains(allow)': False, 'contains(ex)': False, 'contains(abov)': False, 'contains(qual)': False, 'contains(edit)': False, 'contains(deal)': False, 'contains(carry)': False, 'contains(excel)': False, 'contains(fir)': False, 'contains(subtl)': False, 'contains(attract)': False, 'contains(examin)': False, 'contains(cold)': False, 'contains(achiev)': False, 'contains(rest)': False, 'contains(combin)': False, 'contains(gorg)': False, 'contains(develop)': False, 'contains(ii)': False, 'contains(admir)': False, 'contains(wait)': False, 'contains(michael)': False, 'contains(secret)': False, 'contains(follow)': False, 'contains(adapt)': False, 'contains(fantasy)': False, 'contains(tast)': False, 'contains(dog)': False, 'contains(mild)': False, 'contains(nam)': False, 'contains(appear)': False, 'contains(los)': False, 'contains(overal)': False, 'contains(soap)': False, 'contains(approach)': False, 'contains(dec)': True, 'contains(happy)': False, 'contains(damn)': False, 'contains(actress)': False, 'contains(exploit)': False, 'contains(grac)': False, 'contains(told)': False, 'contains(non)': False, 'contains(refresh)': False, 'contains(tir)': False, 'contains(hug)': False, 'contains(difficult)': False, 'contains(thorough)': False, 'contains(four)': False, 'contains(unlik)': False, 'contains(rock)': False, 'contains(intens)': False, 'contains(pul)': False, 'contains(fear)': False, 'contains(thin)': False, 'contains(emerg)': False, 'contains(monst)': False, 'contains(rememb)': False, 'contains(otherw)': False, 'contains(low)': False, 'contains(remind)': False, 'contains(top)': False, 'contains(pretenty)': False, 'contains(lost)': False, 'contains(inv)': False, 'contains(credit)': False, 'contains(vivid)': False, 'contains(episod)': False, 'contains(amb)': False, 'contains(stupid)': False, 'contains(insid)': False, 'contains(escap)': False, 'contains(observ)': False, 'contains(fight)': False, 'contains(tedy)': False, 'contains(sustain)': False, 'contains(dat)': False, 'contains(ep)': False, 'contains(desp)': False, 'contains(murd)': False, 'contains(stev)': False, 'contains(standard)': False, 'contains(eq)': False, 'contains(york)': False, 'contains(cartoon)': False, 'contains(exact)': False, 'contains(break)': False, 'contains(second)': False, 'contains(ut)': False, 'contains(soul)': False, 'contains(coming-of-age)': False, 'contains(issu)': False, 'contains(distinct)': False, 'contains(novel)': False, 'contains(lat)': False, 'contains(gon)': False, 'contains(unexpect)': False, 'contains(plenty)': False, 'contains(themselv)': False, 'contains(wrong)': False, 'contains(mediocr)': False, 'contains(frust)': False, 'contains(skil)': False, 'contains(robert)': False, 'contains(engross)': False, 'contains(strange)': False, 'contains(job)': False, 'contains(mag)': False, 'contains(fig)': False, 'contains(amount)': False, 'contains(vary)': False, 'contains(der)': False, 'contains(poign)': False, 'contains(hat)': False, 'contains(cheap)': False, 'contains(drag)': False, 'contains(bear)': False, 'contains(fit)': False, 'contains(releas)': False, 'contains(pretend)': False, 'contains(horr)': False, 'contains(period)': False, 'contains(term)': False, 'contains(writer-direct)': False, 'contains(thank)': False, 'contains(respect)': False, 'contains(depress)': False, 'contains(ess)': False, 'contains(busy)': False, 'contains(cool)': False, 'contains(air)': False, 'contains(hous)': False, 'contains(subst)': False, 'contains(disney)': False, 'contains(portray)': False, 'contains(recommend)': False, 'contains(scary)': False, 'contains(quick)': False, 'contains(suppos)': False, 'contains(journey)': False, 'contains(unfortun)': False, 'contains(talk)': False, 'contains(david)': False, 'contains(cap)': False, 'contains(cho)': False, 'contains(ask)': False, 'contains(pop)': False, 'contains(welcom)': False, 'contains(kiss)': False, 'contains(park)': False, 'contains(unsettl)': False, 'contains(joy)': False, 'contains(decid)': False, 'contains(singl)': False, 'contains(intim)': False, 'contains(min)': False, 'contains(pay)': False, 'contains(sharp)': False, 'contains(grant)': False, 'contains(auth)': False, 'contains(city)': False, 'contains(spy)': False, 'contains(express)': False, 'contains(straight)': False, 'contains(plain)': False, 'contains(craft)': False, 'contains(middl)': False, 'contains(crit)': False, 'contains(until)': False, 'contains(id)': False, 'contains(main)': False, 'contains(spielberg)': False, 'contains(excess)': False, 'contains(ris)': False, 'contains(remak)': False, 'contains(latest)': False, 'contains(unev)': False, 'contains(brit)': False, 'contains(stay)': False, 'contains(sensit)': False, 'contains(scor)': False, 'contains(body)': False, 'contains(ste)': False, 'contains(ug)': False, 'contains(celebr)': False, 'contains(mayb)': False, 'contains(absurd)': False, 'contains(heavy)': False, 'contains(coupl)': False, 'contains(pack)': False, 'contains(revel)': False, 'contains(ment)': False, 'contains(av)': False, 'contains(commun)': False, 'contains(gentl)': False, 'contains(return)': False, 'contains(cop)': False, 'contains(tradit)': False, 'contains(impact)': False, 'contains(witty)': False, 'contains(opportun)': False, 'contains(creepy)': False, 'contains(atmosph)': False, 'contains(hel)': False, 'contains(reson)': False, 'contains(fram)': False, 'contains(crush)': False, 'contains(saw)': False, 'contains(construct)': False, 'contains(walk)': False, 'contains(\\\\)': False, 'contains(*)': False, 'contains(doubt)': False, 'contains(goofy)': False, 'contains(troubl)': False, 'contains(comply)': False, 'contains(wat)': False, 'contains(fast)': False, 'contains(triumph)': False, 'contains(road)': False, 'contains(edg)': False, 'contains(throughout)': False, 'contains(behind)': False, 'contains(rac)': False, 'contains(shar)': False, 'contains(sci-f)': False, 'contains(upon)': False, 'contains(routin)': False, 'contains(trap)': False, 'contains(fest)': False, 'contains(someon)': False, 'contains(prim)': False, 'contains(hol)': False, 'contains(americ)': False, 'contains(divert)': False, 'contains(target)': False, 'contains(decad)': False, 'contains(old-fashion)': False, 'contains(manip)': False, 'contains(wors)': False, 'contains(conv)': False, 'contains(fem)': False, 'contains(reach)': False, 'contains(dar)': False, 'contains(improv)': False, 'contains(includ)': False, 'contains(rely)': False, 'contains(speak)': False, 'contains(absolv)': False, 'contains(purpos)': False, 'contains(howev)': False, 'contains(amaz)': False, 'contains(crazy)': False, 'contains(in)': False, 'contains(determin)': False, 'contains(wish)': False, 'contains(maj)': False, 'contains(prevy)': False, 'contains(admit)': False, 'contains(felt)': False, 'contains(fut)': False, 'contains(child)': False, 'contains(acc)': False, 'contains(tot)': False, 'contains(limit)': False, 'contains(skin)': False, 'contains(dry)': False, 'contains(fav)': False, 'contains(ir)': False, 'contains(match)': False, 'contains(confus)': False, 'contains(country)': False, 'contains(william)': False, 'contains(root)': False, 'contains(adam)': False, 'contains(empty)': False, 'contains(across)': False, 'contains(altern)': False, 'contains(ind)': False, 'contains(masterpiec)': False, 'contains(urb)': False, 'contains(medit)': False, 'contains(chas)': False, 'contains(leg)': False, 'contains(blu)': False, 'contains(aim)': False, 'contains(green)': False, 'contains(wear)': False, 'contains(app)': False, 'contains(seat)': False, 'contains(philosoph)': False, 'contains(consist)': False, 'contains(shoot)': False, 'contains(doing)': False, 'contains(reward)': False, 'contains(suit)': False, 'contains(loud)': False, 'contains(ent)': False, 'contains(chem)': False, 'contains(night)': False, 'contains(challeng)': False, 'contains(among)': False, 'contains(awkward)': False, 'contains(list)': False, 'contains(sport)': False, 'contains(queen)': False, 'contains(sham)': False, 'contains(ensembl)': False, 'contains(gay)': False, 'contains(eleg)': False, 'contains(provoc)': False, 'contains(suggest)': False, 'contains(draw)': False, 'contains(beat)': False, 'contains(frequ)': False, 'contains(maintain)': False, 'contains(design)': False, 'contains(absorb)': False, 'contains(perhap)': False, 'contains(concern)': False, 'contains(grand)': False, 'contains(apart)': False, 'contains(unfunny)': False, 'contains(deft)': False, 'contains(battl)': False, 'contains(superf)': False, 'contains(contemp)': False, 'contains(dep)': False, 'contains(2)': False, 'contains(whit)': False, 'contains(room)': False, 'contains(apprecy)': False, 'contains(sexy)': False, 'contains(conflict)': False, 'contains(soph)': False, 'contains(trag)': False, 'contains(collect)': False, 'contains(marvel)': False, 'contains(dant)': False, 'contains(continu)': False, 'contains(unus)': False, 'contains(lam)': False, 'contains(sick)': False, 'contains(georg)': False, 'contains(overcom)': False, 'contains(company)': False, 'contains(glory)': False, 'contains(song)': False, 'contains(alon)': False, 'contains(jackson)': False, 'contains(aly)': False, 'contains(catch)': False, 'contains(mal)': False, 'contains(red)': False, 'contains(worthy)': False, 'contains(metaph)': False, 'contains(tom)': False, 'contains(bond)': False, 'contains(90)': False, 'contains(wind)': False, 'contains(&)': False, 'contains(burn)': False, 'contains(osc)': False, 'contains(ye)': False, 'contains(broth)': False, 'contains(chan)': False, 'contains(money)': False, 'contains(sea)': False, 'contains(heav)': False, 'contains(school)': False, 'contains(fish)': False, 'contains(evil)': False, 'contains(univers)': False, 'contains(weak)': False, 'contains(desir)': False, 'contains(offend)': False, 'contains(requir)': False, 'contains(wis)': False, 'contains(pet)': False, 'contains(grip)': False, 'contains(intellect)': False, 'contains(answ)': False, 'contains(argu)': False, 'contains(disgu)': False, 'contains(explod)': False, 'contains(surv)': False, 'contains(demonst)': False, 'contains(poet)': False, 'contains(repres)': False, 'contains(sandl)': False, 'contains(brain)': False, 'contains(necess)': False, 'contains(techn)': False, 'contains(toward)': False, 'contains(moth)': False, 'contains(paint)': False, 'contains(guess)': False, 'contains(poetry)': False, 'contains(meand)': False, 'contains(conclud)': False, 'contains(brown)': False, 'contains(ring)': False, 'contains(photograph)': False, 'contains(unfold)': False, 'contains(fath)': False, 'contains(acceiv)': False, 'contains(shallow)': False, 'contains(cred)': False, 'contains(dist)': False, 'contains(colleg)': False, 'contains(comfort)': False, \"B_'30s_'40s\": False, \"B_'80s_hatosy\": False, 'B_10-course_banquet': False, 'B_18-year-old_mistress': False, 'B_1950_dor': False, 'B_1959_godzill': False, 'B_1986_harlem': False, 'B_50-something_lovebird': False, 'B_75-minute_sampl': False, 'B_\\\\_*': False, 'B_a.e.w_mason': False, 'B_abbot_ernest': False, 'B_abd_malik': False, 'B_abderrahm_sissako': False, 'B_achero_mana': False, 'B_acr_haut': False, 'B_admin_compl': False, 'B_adry_brody': False, 'B_age-wis_caviezel': False, 'B_alain_choquart': False, 'B_alchem_transmogr': False, 'B_all-night_tequil': False, 'B_american-russ_armageddon': False, 'B_ann_mougl': False, 'B_arithmet_camera': False, 'B_artless_sytl': False, 'B_as-it_thinks-it-': False, 'B_as-nasty_as-it': False, 'B_ash_wednesday': False, 'B_aur_christelle': False, 'B_auschwitz_ii-birkenau': False, 'B_avon_leer': False, 'B_avuncul_chortl': False, 'B_ba_murdock': False, 'B_baloney_biz': False, 'B_bang-bang_shoot-em-up': False, 'B_be-all-end-all_modern-office': False, 'B_beachcomb_verismo': False, 'B_beav_butthead': False, 'B_beb_neuwir': False, 'B_bedknob_broomstick': False, 'B_bedsid_vigil': False, 'B_been-told-a_thousand-times': False, 'B_behind-the-scenes_navel-gazing': False, 'B_beloved-major_character-who-shall': False, 'B_bentley_hudson': False, 'B_bettany\\\\/mcdowell_hard-ey': False, 'B_biggy_tupac': False, 'B_bitchy_frol': False, 'B_blanchet_ribis': False, 'B_bluto_blutarsky': False, 'B_bmws_seasid': False, 'B_boogaloo_oversex': False, 'B_brain-deadening_hangov': False, 'B_brazil-like_hyper-real': False, 'B_break-ups_hook-ups': False, 'B_breckin_mey': False, 'B_breheny_lens': False, 'B_brent_hanley': False, 'B_broach_neo-augustinian': False, 'B_brothers-style_down-and-dirty': False, 'B_brussel_sprouts': False, 'B_bubb_ho-tep': False, 'B_buckaroo_banza': False, 'B_bullfight_comatos': False, 'B_bump-in_the-night': False, 'B_burkin_faso': False, 'B_busby_berkeley': False, 'B_buscem_rosario': False, 'B_bustl_atop': False, 'B_bv_re-voiced': False, 'B_byplay_bick': False, 'B_byron_luth': False, 'B_cafeter_goulash': False, 'B_cand_yakusho': False, 'B_cattl_prod': False, 'B_channel-style_antholog': False, 'B_character-who-shall_remain-nameless': False, 'B_cheech_chong': False, 'B_cherry_orchard': False, 'B_chicanery_self-delusion': False, 'B_chirpy_songbird': False, 'B_christine_sylvy': False, 'B_churl_begrudg': False, 'B_clariss_dalloway': False, 'B_closed-door_hanky-panky': False, 'B_clyd_barrow': False, 'B_colg_u': False, 'B_college-spawned_colg': False, 'B_comatos_ballerina': False, 'B_comin_ya': False, 'B_contenty_config': False, 'B_cor-blimey-luv-a-duck_cockney': False, 'B_cornpon_cos': False, 'B_cos_nostr': False, 'B_couch_dr.': False, 'B_cough_fidget': False, 'B_coward_autocrit': False, 'B_cremator_chimney': False, 'B_crypt_mist': False, 'B_culprit_early-on': False, 'B_cynd_laup': False, 'B_d.w._griffi': False, 'B_decent-enough_nail-biter': False, 'B_deficit_flim-flam': False, 'B_dehum_ego-destroying': False, 'B_dej_vu': False, 'B_delinqu_paperback': False, 'B_di_napol': False, 'B_director-chef_gabriel': False, 'B_disapprov_justin': False, 'B_disease-of_the-week': False, 'B_disease-of-the-week_small-screen': False, 'B_disloy_satyr': False, 'B_disobedy_anti-war': False, 'B_djeinab_diop': False, 'B_doing-it-for_the-cash': False, 'B_donn_flor': False, 'B_doodl_steambo': False, 'B_doofus-on_the-loos': False, 'B_double-pistoled_ballistic-pyrotechn': False, 'B_dov_kosashvil': False, 'B_drast_iconograph': False, 'B_dreamlik_ecstasy': False, 'B_drench_swoony': False, 'B_dust-caked_stagn': False, 'B_dusty_leatherbound': False, 'B_eagl_carpet': False, 'B_edmund_mcwilliams': False, 'B_electrocut_dismemb': False, 'B_elfry_jelinek': False, 'B_elimin_behead': False, 'B_embalm_half-assed': False, 'B_ennu_denud': False, 'B_envy_hijack': False, 'B_eponym_1980': False, 'B_erin_brockovich': False, 'B_ernest_tron': False, 'B_esteem_writer-act': False, 'B_evacu_none-too-funny': False, 'B_evanesc_seamless': False, 'B_everlyn_samp': False, 'B_every-joke-has_been-told-a': False, 'B_eye-filling_wide-screen': False, 'B_family-oriented_non-disney': False, 'B_fang-bar_lullaby': False, 'B_fast-edit_hopped-up': False, 'B_flush_testosteron': False, 'B_foo_yung': False, 'B_forem_barking-mad': False, 'B_formid_arithmet': False, 'B_forrest_gump': False, 'B_freewheel_trash-cinema': False, 'B_froth_ex-girlfriend': False, 'B_fuhrm_posthum': False, 'B_future-world_holograph': False, 'B_gabbiest_giant-screen': False, 'B_galinsky_hawley': False, 'B_gandalf_wind-tunnel': False, 'B_gang-infested_east-vs': False, 'B_gaunt_silver-haired': False, 'B_geneviev_leplouff': False, 'B_geograph_displac': False, 'B_giovann_psychy': False, 'B_goldm_bolado': False, 'B_grang_gaug': False, 'B_grenobl_genev': False, 'B_groan-to-guffaw_ratio': False, 'B_grouchy_ayatollah': False, 'B_gruel_time-consuming': False, 'B_gryffind_scarf': False, 'B_gulz_jagjit': False, 'B_gur_dosha': False, 'B_hairlin_weath': False, 'B_handgun_bmws': False, 'B_hard-sell_image-mongering': False, 'B_harp_media-constructed': False, 'B_harvey_weinstein': False, 'B_hatfield_hick': False, 'B_haut_cout': False, 'B_hect_homilet': False, 'B_heedless_impetu': False, 'B_heideg_nietzsche-referencing': False, 'B_heretof_unfathom': False, 'B_hermocr_leontin': False, 'B_hidebound_movie-making': False, 'B_high-wattage_brainpow': False, 'B_hippopotam_ballerin': False, 'B_hitler-study_snid': False, 'B_homework_soak': False, 'B_hong_kong': False, 'B_hoolig_double-barreled': False, 'B_hossein_amin': False, 'B_hottest_hippest': False, 'B_huckst_lapel': False, 'B_hyster_playst': False, 'B_i-heard-a-joke_at-a-frat-party': False, 'B_ib_hjels': False, 'B_ill-timed_antitrust': False, 'B_ill-wrought_hypothes': False, 'B_imbecil_maf': False, 'B_imog_kimmel': False, 'B_imp_divertiss': False, 'B_impud_snick': False, 'B_inext_entwin': False, 'B_insoucy_embed': False, 'B_intract_irrevers': False, 'B_invert_concubin': False, 'B_invok_percuss': False, 'B_iranian-americ_1979': False, 'B_ita_beckon': False, 'B_jae-eun_jeong': False, 'B_jagjit_singh': False, 'B_japanim_hayao': False, 'B_jar-j_bink': False, 'B_javy_bardem': False, 'B_jazz-playing_extermin': False, 'B_jeanet_macdonald': False, 'B_jerky_hand-held': False, 'B_jerusalem_culture-clash': False, 'B_jez_butterwor': False, 'B_jir_menzel': False, 'B_judi_zaz': False, 'B_k_19': False, 'B_karim_drid': False, 'B_karm_enthron': False, 'B_kerrig_platinum-blonde': False, 'B_kid-pleasing_tolerable-to-adults': False, 'B_kirst_dunst': False, 'B_kjel_bjarn': False, 'B_knit_needl': False, 'B_knockoff_zoom': False, 'B_kraft_macaron': False, 'B_lawy_stomach-knotting': False, 'B_leanest_meanest': False, 'B_lian_dognin': False, 'B_limerick_scrawled': False, 'B_lisp_reptil': False, 'B_locust_hord': False, 'B_long-on-the-shelf_point-and-shoot': False, 'B_lugos_now-cliched': False, 'B_m-16_cameo-packed': False, 'B_maf_toolb': False, 'B_maik_firebrand': False, 'B_maint_celib': False, 'B_malik_abbot': False, 'B_mana_schematic': False, 'B_mapquest_email': False, 'B_marck_marilyn': False, 'B_margaret_thatch': False, 'B_mariah_carey': False, 'B_mario_cavaradoss': False, 'B_mazel_tov': False, 'B_mcklusky_c.i': False, 'B_melany_carmichael': False, 'B_mimet_approxim': False, 'B_mind-bender_illit': False, 'B_misunderstand_marivaux': False, 'B_moldy-oldie_not-nearly': False, 'B_mont_cristo': False, 'B_movie-goers_embark': False, 'B_mulholland_dr': False, 'B_murray_prol': False, 'B_muy_loco': False, 'B_muzak_cush': False, 'B_nadir_thriller\\\\/horror': False, 'B_nant_savoc': False, 'B_nata_babbit': False, 'B_nav_personnel': False, 'B_nihil_summon': False, 'B_northwest_bermud': False, 'B_not-nearly_as-nasty': False, 'B_not-so-big_not-so-hot': False, 'B_one-trick_pony': False, 'B_operand_crucifict': False, 'B_ot_iosselian': False, 'B_out-shock_out-outrage': False, 'B_over-indulgent_tirad': False, 'B_overcoming-obstacles_sports-movie': False, 'B_p_artn': False, 'B_padr_amaro': False, 'B_painless_time-killer': False, 'B_pantomimesqu_sterotyp': False, 'B_paramount_imprint': False, 'B_parapsycholog_phenomen': False, 'B_pars_barn-side': False, 'B_pasach_ke': False, 'B_patricio_guzm': False, 'B_paunchy_midsect': False, 'B_pc_stabl': False, 'B_peep_booth': False, 'B_petty_thievery': False, 'B_pimp_ho': False, 'B_plasm_conduit': False, 'B_pog_yal': False, 'B_poky_pseudo-serious': False, 'B_polson_award-winning': False, 'B_post-adolesc_electr': False, 'B_post-tarantino_pop-culture': False, 'B_pouty-lipped_poof': False, 'B_punny_6': False, 'B_pushy_decibel': False, 'B_q._archibald': False, 'B_r._nebrid': False, \"B_raison_d'etre\": False, 'B_rambo_meets-john': False, 'B_reedy_consig': False, 'B_reloc_scuzzy': False, 'B_rembrandt_niftiest': False, 'B_renew_mariah': False, 'B_resuscit_fun-loving': False, 'B_retail_clerk': False, 'B_rick_famuyiw': False, 'B_right-hand_goombah': False, 'B_riot-control_projectil': False, 'B_rivier_spree': False, 'B_rock-n-rolling_eckstraordin': False, 'B_rodrigu_beast-within': False, 'B_romance-novel_platitud': False, 'B_romeo_juliet\\\\/west': False, 'B_rough-trade_homo-eroticism': False, 'B_rov_dangerfield': False, 'B_runyon_crook': False, 'B_ryoko_hirosu': False, 'B_sabar_cortez': False, 'B_saddam_hussein': False, 'B_salt-of-the-earth_mommy': False, 'B_samir_makhmalbaf': False, 'B_scene-chewing_teeth-gnashing': False, 'B_schiffer_hossein': False, 'B_schneidermeister_makin': False, 'B_scoob_shag': False, 'B_scrap_darkest': False, 'B_screeching-metal_smashup': False, 'B_screenful_gamesm': False, 'B_scummy_ripoff': False, 'B_seasid_chatea': False, 'B_self-critical_behind-the-scenes': False, 'B_self-mutilating_sideshow': False, 'B_sequel-for-the-sake_of-a-sequel': False, 'B_sex-in-the-city_misadv': False, 'B_shapiro_goldm': False, 'B_shiver-inducing_nerve-rattling': False, 'B_shoot-outs_fistfight': False, 'B_show-don_t-tell': False, 'B_showbo_wise-cracker': False, 'B_silly-looking_morlock': False, 'B_sissako_heremakono': False, 'B_sixty_rocku': False, 'B_skyscrap_nursery': False, 'B_sleep-inducingly_slow-paced': False, 'B_sleight-of-hand_ill-wrought': False, 'B_smel_greas': False, 'B_softhead_metaphys': False, 'B_song-and-dance-man_pasach': False, 'B_special-effects-laden_extravaganza': False, 'B_speedy_swan': False, 'B_spirit-crushing_ennu': False, 'B_sprawl_uncoordin': False, 'B_spreading_purit': False, 'B_spry_2001': False, 'B_spy-thriller_stup': False, 'B_star-making_machinery': False, 'B_streetwise_mclaughlin': False, 'B_striving_solips': False, 'B_strong-minded_viewpoint': False, 'B_stunt-hungry_dimwit': False, 'B_subsequ_reinv': False, 'B_sunbak_summery': False, 'B_sunny_disposit': False, 'B_super-serious_super-stupid': False, 'B_super-wealthy_megalomaniac': False, 'B_switchblad_sexpot': False, 'B_tap-dancing_rhino': False, 'B_tear-drenched_quicksand': False, 'B_teen-driv_toilet-humor': False, 'B_teen-exploitat_playbook': False, 'B_tendenty_interv': False, 'B_tequil_bend': False, 'B_testosterone-charged_wizardry': False, 'B_thandy_newton': False, 'B_therapeut_zap': False, 'B_therapy-dependent_flakebal': False, 'B_thrill-kill_cat-and-mouser': False, 'B_time-switching_myop': False, 'B_tinny_self-righteousness': False, 'B_toilet-humor_codswallop': False, 'B_tolstoy_groupy': False, 'B_too-hot-for-tv_direct-to-video\\\\/dvd': False, 'B_too-long_spoofy': False, 'B_topnotch_foursom': False, 'B_tow_outdo': False, 'B_trance-noir_trumped-up': False, 'B_trav_bickl': False, 'B_trombon_honk': False, 'B_true-crim_hell-jaunt': False, 'B_truth-in-advertising_hound': False, 'B_twentysometh_hotsy': False, 'B_two-way_time-switching': False, 'B_uncoordin_vect': False, 'B_underdon_potato': False, 'B_unear_quak': False, 'B_unenco_threefold': False, 'B_unnot_underapprecy': False, 'B_unthink_unacceiv': False, 'B_untold_bui': False, 'B_vaness_redgrav': False, 'B_vern_20,000': False, 'B_ving_rham': False, 'B_virtuoso_throat-singing': False, 'B_w._bush': False, 'B_wai_ka': False, 'B_walking-dead_cop-flick': False, 'B_wasp_matron': False, 'B_weim_republ': False, 'B_weiss_speck': False, 'B_well-lensed_gorefest': False, 'B_wholes_ineptitud': False, 'B_wild-and-woolly_wall-to-wal': False, 'B_wittgenstein_kirkegaard': False, 'B_wladyslaw_szpilman': False, 'B_wonder-what_time-it-is': False, 'B_woolf_clariss': False, 'B_wordy_wisp': False, 'B_wra_khan': False, 'B_yasujiro_ozu': False, 'B_yosuk_saeko': False, 'B_zemeck_agree': False, 'B_zhao_bensh': False, 'B_zoe_clarke-williams': False, 'B_zuck_brothers\\\\/abraham': False, 'B_mothm_prophecy': False, 'B_dougla_mcgrath': False, 'B_jessic_stein': False, 'B_morvern_call': False, 'B_ram_dass': False, 'B_clet_tout': False, 'B_elizabe_hurley': False, 'B_longest_yard': False, 'B_drew_barrym': False, 'B_fred_schepisi': False, 'B_highway_patrolm': False, 'B_indec_propos': False, 'B_janklowicz-mann_amir': False, 'B_kenne_branagh': False, 'B_kier_culkin': False, 'B_lily_chou-chou': False, 'B_malcolm_mcdowell': False, 'B_mumbo_jumbo': False, 'B_pau_shor': False, 'B_pearl_harb': False, 'B_pluto_nash': False, 'B_pooty_tang': False, 'B_saigon_1952': False, 'B_scotland_pa': False, 'B_takash_miik': False, 'B_vivek_seldahl': False, 'B_crocodil_hunt': False, 'B_jerry_bruckheim': False, 'B_blair_witch': False, 'B_anne-sophi_birot': False, 'B_quentin_tarantino': False, 'B_satin_roug': False, 'B_emp_club': False, 'B_nichola_nickleby': False, 'B_sant_claus': False, 'B_shangha_ghetto': False, 'B_10-year_delay': False, 'B_1915_armen': False, 'B_1975_eroti-comedy': False, 'B_1979_flat-out': False, 'B_1992_unforg': False, 'B_22-year-old_girlfriend': False, 'B_26-year-old_rees': False, 'B_295_preview': False, 'B_3d_goggl': False, 'B_451_semi-autobiographical': False, 'B_48_hrs': False, 'B_6-year-old_nephew': False, 'B_94-minute_travesty': False, 'B_99_bargain-basement': False, 'B_a.s._byat': False, 'B_ac_japanim': False, 'B_ac_ventur': False, 'B_academ_skullduggery': False, 'B_adrift_bentley': False, 'B_afflu_damsel': False, 'B_agon_catch-22': False, 'B_alfonso_cuaron': False, 'B_amc_greg': False, 'B_analges_balm': False, 'B_andre_tarkovsky': False, 'B_anti-catholic_protest': False, 'B_anti-semitism_neo-fascism': False, 'B_antonio_banderas-lucy': False, 'B_antsy_youngst': False, 'B_anxy_sidestep': False, 'B_area_parent-child': False, 'B_asqui_acclaim': False, 'B_auteil_emy': False, 'nouns': 9, 'verbs': 1, 'adjectives': 2, 'adverbs': 1, 'numModal': 0, 'numDeterminer': 0, 'numTO': 0, 'numInterjections': 0, 'numWh': 0, 'numInterjection': 0, 'numCorconjunction': 0, 'numCardNum': 0}, '2')\n",
      "num nouns 9\n",
      "num verbs 1\n",
      "num adjectives 2\n",
      "num adverbs 1\n",
      "\tPrecision\tRecall\t\tF1\n",
      "0 \t      0.372      0.276      0.317\n",
      "1 \t      0.445      0.446      0.446\n",
      "2 \t      0.272      0.290      0.281\n",
      "3 \t      0.416      0.405      0.410\n",
      "4 \t      0.390      0.456      0.420\n",
      "  |      0      1      2      3      4 |\n",
      "--+------------------------------------+\n",
      "0 |  <3.5%>  3.0%   1.5%   1.1%   0.3% |\n",
      "1 |   4.4% <11.6%>  5.4%   3.6%   1.1% |\n",
      "2 |   2.5%   5.5%  <5.6%>  5.2%   1.8% |\n",
      "3 |   1.2%   4.5%   4.8% <11.1%>  5.0% |\n",
      "4 |   1.1%   1.4%   1.9%   6.4%  <6.8%>|\n",
      "--+------------------------------------+\n",
      "(row = reference; col = test)\n",
      "\n",
      "Accuracy: 0.38515625\n"
     ]
    }
   ],
   "source": [
    "all_words_list = [word for text in word_tokens for word in text]\n",
    "\n",
    "all_words = nltk.FreqDist(all_words_list)\n",
    "# get the 2000 most frequently appearing keywords in the corpus\n",
    "word_items = all_words.most_common(1000)\n",
    "word_features = [word for (word,count) in word_items]\n",
    "# create the bigram finder on all the words in sequence\n",
    "print(all_words_list[:50])\n",
    "\n",
    "def POS_features2(document, word_features):\n",
    "    document_words = set(document)\n",
    "    tagged_words = nltk.pos_tag(document)\n",
    "    features = {}\n",
    "    for word in word_features:\n",
    "        features['contains({})'.format(word)] = (word in document_words)\n",
    "\n",
    "    document_bigrams = nltk.bigrams(document)\n",
    "    for bigram in bigram_features:\n",
    "        features['B_{}_{}'.format(bigram[0], bigram[1])] = (bigram in document_bigrams)\n",
    "\n",
    "    numNoun = 0\n",
    "    numVerb = 0\n",
    "    numAdj = 0\n",
    "    numAdverb = 0\n",
    "    numModal = 0\n",
    "    numDeterminer =0\n",
    "    numTO = 0\n",
    "    numInterjections = 0\n",
    "    numWh = 0\n",
    "    numInterjection =0\n",
    "    numCorconjunction =0\n",
    "    numCardNum =0\n",
    "    for (word, tag) in tagged_words:\n",
    "        if tag.startswith('N'): numNoun += 1\n",
    "        if tag.startswith('V'): numVerb += 1\n",
    "        if tag.startswith('J'): numAdj += 1\n",
    "        if tag.startswith('R'): numAdverb += 1\n",
    "        if tag.startswith('M'): numModal += 1\n",
    "        if tag.startswith('D'): numDeterminer += 1\n",
    "        if tag.startswith('TO'): numTO += 1\n",
    "        if tag.startswith('UH'): numInterjections += 1\n",
    "        if tag.startswith('W'): numWh += 1\n",
    "        if tag.startswith('UH'): numInterjection += 1\n",
    "        if tag.startswith('CC'): numCorconjunction += 1\n",
    "        if tag.startswith('CD'): numCardNum += 1\n",
    "\n",
    "    features['nouns'] = numNoun\n",
    "    features['verbs'] = numVerb\n",
    "    features['adjectives'] = numAdj\n",
    "    features['adverbs'] = numAdverb\n",
    "    features['numModal'] =  numModal\n",
    "    features['numDeterminer'] = numDeterminer\n",
    "    features['numTO'] = numTO\n",
    "    features['numInterjections'] = numInterjections\n",
    "    features['numWh'] = numWh\n",
    "    features['numInterjection'] =  numInterjection\n",
    "    features['numCorconjunction'] = numCorconjunction\n",
    "    features['numCardNum'] = numCardNum\n",
    "    return features\n",
    "\n",
    "# define feature sets using this function\n",
    "POS_featuresets2 = [(POS_features2(text, word_features), label) for text, label in zip(word_tokens, labels)]\n",
    "\n",
    "# number of features for document 0\n",
    "print(len(POS_featuresets2[0][0].keys()))\n",
    "\n",
    "# the first sentence\n",
    "print(POS_featuresets2[0])\n",
    "# the pos tag features for this sentence\n",
    "print('num nouns', POS_featuresets2[0][0]['nouns'])\n",
    "print('num verbs', POS_featuresets2[0][0]['verbs'])\n",
    "print('num adjectives', POS_featuresets2[0][0]['adjectives'])\n",
    "print('num adverbs', POS_featuresets2[0][0]['adverbs'])\n",
    "\n",
    "\n",
    "nb_pos_2=run_nb(POS_featuresets2,test_train)\n",
    "#explain_model(nb_uni)\n",
    "# perform the cross-validation on the featuresets with word features and generate accuracy\n",
    "num_folds = 5\n",
    "\n",
    "#run_cross_validation_nb(num_folds, POS_featuresets2)\n"
   ],
   "metadata": {
    "collapsed": false,
    "pycharm": {
     "name": "#%%\n"
    }
   }
  },
  {
   "cell_type": "code",
   "execution_count": 68,
   "outputs": [
    {
     "name": "stdout",
     "output_type": "stream",
     "text": [
      "['pumpkin', 'struts', 'about', 'with', 'cour', 'pin', 'it', 'huckst', 'lapel', 'whil', 'yellow', 'streak', 'mil', 'wid', 'dec', 'it', 'back', 'mak', 'no', 'mistak', 'iv', 'xtc', 'piano', 'teach', 'not', 'an', 'easy', 'i', 'was', 'hop', 'would', 'be', 'sleazy', 'fun', 'but', 'was', 'neith', 'word', 'com', 'mind', 'whil', 'watch', 'er', 'rohm', 'tribut', 'cour', 'scot', 'lady', 'paint', 'for']\n",
      "1537\n",
      "({'count(NN)': 8, 'count(JJ)': 2, 'count(IN)': 2, 'count(RB)': 0, 'count(VB)': 0, 'count(VBP)': 0, 'count(PRP)': 2, 'count(DT)': 0, 'count(NNS)': 1, 'count(VBD)': 1, 'count(CC)': 0, 'count(VBZ)': 0, 'count(MD)': 0, 'count(PRP$)': 0, 'count(VBN)': 0, 'count(RP)': 1, 'count(JJS)': 0, 'count(WP)': 0, 'count(CD)': 0, 'count(VBG)': 0, 'count(WRB)': 0, 'count(FW)': 0, 'count(JJR)': 0, 'count(WDT)': 0, 'count(RBS)': 0, 'count(NNP)': 0, 'count(:)': 0, 'count(.)': 0, 'count(RBR)': 0, 'count(PDT)': 0, 'count($)': 0, 'count(POS)': 0, 'count(TO)': 0, 'count(#)': 0, 'count(UH)': 0, 'count(EX)': 0, 'count(SYM)': 0, 'contains(as)': False, 'contains(but)': False, 'contains(with)': True, 'contains(for)': False, 'contains(thi)': False, 'contains(an)': False, 'contains(it)': True, 'contains(you)': False, 'contains(on)': False, \"contains(n't)\": False, 'contains(be)': False, 'contains(not)': False, 'contains(lik)': False, 'contains(mor)': False, 'contains(by)': False, 'contains(about)': True, 'contains(ar)': False, 'contains(al)': False, 'contains(hav)': False, 'contains(from)': False, 'contains(than)': False, 'contains(mak)': False, 'contains(act)': False, 'contains(his)': False, 'contains(ev)': False, 'contains(i)': False, 'contains(so)': False, 'contains(if)': False, 'contains(story)': False, 'contains(or)': False, 'contains(charact)': False, 'contains(what)': False, 'contains(most)': False, 'contains(ther)': False, 'contains(out)': False, 'contains(direct)': False, 'contains(real)': False, 'contains(who)': False, 'contains(tim)': False, 'contains(just)': False, 'contains(too)': False, 'contains(doe)': False, 'contains(into)': False, 'contains(com)': False, 'contains(up)': False, 'contains(wil)': False, 'contains(work)': False, 'contains(us)': False, 'contains(good)': False, 'contains(comedy)': False, 'contains(can)': False, 'contains(no)': False, 'contains(much)': False, 'contains(perform)': False, 'contains(feel)': False, 'contains(her)': False, 'contains(som)': False, 'contains(way)': False, 'contains(funny)': False, 'contains(lov)': False, 'contains(hum)': False, 'contains(their)': False, 'contains(he)': False, 'contains(off)': False, 'contains(look)': False, 'contains(littl)': False, 'contains(get)': False, 'contains(man)': False, 'contains(yo)': False, 'contains(they)': False, 'contains(nev)': False, 'contains(dram)': False, 'contains(do)': False, 'contains(very)': False, 'contains(would)': False, 'contains(which)': False, 'contains(tak)': False, 'contains(we)': False, 'contains(been)': False, 'contains(watch)': False, 'contains(may)': False, 'contains(end)': False, 'contains(bad)': False, 'contains(seem)': False, 'contains(enough)': False, 'contains(thing)': False, 'contains(any)': False, 'contains(giv)': False, 'contains(was)': False, 'contains(when)': False, 'contains(see)': False, 'contains(entertain)': False, 'contains(lif)': False, 'contains(mad)': False, 'contains(best)': False, 'contains(new)': False, 'contains(movy)': False, 'contains(them)': False, 'contains(could)': False, 'contains(whil)': True, 'contains(mat)': False, 'contains(plot)': False, 'contains(wel)': False, 'contains(tal)': False, 'contains(oth)': False, 'contains(how)': False, 'contains(through)': False, 'contains(film)': False, 'contains(interest)': False, 'contains(play)': False, 'contains(someth)': False, 'contains(audy)': False, 'contains(should)': False, 'contains(sens)': False, 'contains(many)': False, 'contains(year)': False, 'contains(bet)': False, 'contains(cast)': False, 'contains(rom)': False, 'contains(without)': False, 'contains(both)': False, 'contains(own)': False, 'contains(thos)': False, 'contains(vis)': False, 'contains(art)': False, 'contains(filmmak)': False, 'contains(long)': False, 'contains(emot)': False, 'contains(fin)': False, 'contains(being)': False, 'contains(noth)': False, 'contains(gre)': False, 'contains(peopl)': False, 'contains(stil)': False, 'contains(two)': False, 'contains(cinem)': False, 'contains(every)': False, 'contains(hard)': False, 'contains(also)': False, 'contains(car)': False, 'contains(big)': False, 'contains(ov)': False, 'contains(pict)': False, 'contains(cre)': False, 'contains(mom)': False, 'contains(surpr)': False, 'contains(might)': False, 'contains(docu)': False, 'contains(am)': False, 'contains(though)': False, 'contains(such)': False, 'contains(pow)': False, 'contains(fun)': False, 'contains(beauty)': False, 'contains(first)': False, 'contains(find)': False, 'contains(far)': False, 'contains(enjoy)': False, 'contains(bit)': False, 'contains(view)': False, 'contains(want)': False, 'contains(kind)': False, 'contains(liv)': False, 'contains(show)': False, 'contains(less)': False, 'contains(anoth)': False, 'contains(laugh)': False, 'contains(minut)': False, 'contains(script)': False, 'contains(tru)': False, 'contains(few)': False, 'contains(between)': False, 'contains(sery)': False, 'contains(scen)': False, 'contains(lot)': False, 'contains(charm)': False, 'contains(ultim)': False, 'contains(oft)': False, 'contains(styl)': False, 'contains(lack)': False, 'contains(becaus)': False, 'contains(world)': False, 'contains(quit)': False, 'contains(;)': False, 'contains(nee)': False, 'contains(think)': False, 'contains(yet)': False, 'contains(gen)': False, 'contains(ful)': False, 'contains(down)': False, 'contains(thes)': False, 'contains(famy)': False, 'contains(pleas)': False, 'contains(wom)': False, 'contains(mov)': False, 'contains(heart)': False, 'contains(turn)': False, 'contains(origin)': False, 'contains(wer)': False, 'contains(keep)': False, 'contains(thriller)': False, 'contains(aft)': False, 'contains(almost)': False, 'contains(!)': False, 'contains(del)': False, 'contains(becom)': False, 'contains(know)': False, 'contains(old)': False, 'contains(hollywood)': False, 'contains(hist)': False, 'contains(rath)': False, 'contains(ca)': False, 'contains(mus)': False, 'contains(had)': False, 'contains(effect)': False, 'contains(my)': False, 'contains(wor)': False, 'contains(mess)': False, 'contains(point)': False, 'contains(easy)': False, 'contains(kid)': False, 'contains(the)': False, 'contains(writ)': False, 'contains(she)': False, 'contains(bef)': False, 'contains(me)': False, 'contains(expery)': False, 'contains(go)': False, 'contains(screen)': False, 'contains(seen)': False, 'contains(spec)': False, 'contains(sint)': False, 'contains(leav)': False, 'contains(piec)': False, 'contains(star)': False, 'contains(itself)': False, 'contains(set)': False, 'contains(back)': True, 'contains(subject)': False, 'contains(success)': False, 'contains(right)': False, 'contains(nat)': False, 'contains(pass)': False, 'contains(young)': False, 'contains(dark)': False, 'contains(then)': False, 'contains(wher)': False, 'contains(high)': False, 'contains(anim)': False, 'contains(cult)': False, 'contains(sil)': False, 'contains(dialog)': False, 'contains(part)': False, 'contains(person)': False, 'contains(say)': False, 'contains(intellig)': False, 'contains(fan)': False, 'contains(produc)': False, 'contains(hour)': False, 'contains(run)': False, 'contains(try)': False, 'contains(despit)': False, 'contains(plac)': False, 'contains(feat)': False, 'contains(flick)': False, 'contains(compel)': False, 'contains(imagin)': False, 'contains(wond)': False, 'contains(ont)': False, 'contains(fascin)': False, 'contains(our)': False, 'contains(rar)': False, 'contains(day)': False, 'contains(certain)': False, 'contains(sweet)': False, 'contains(touch)': False, 'contains(believ)': False, 'contains(problem)': False, 'contains(sad)': False, 'contains(spirit)': False, 'contains(sam)': False, 'contains(eng)': False, 'contains(class)': False, 'contains(predict)': False, 'contains(adv)': False, 'contains(did)': False, 'contains(again)': False, 'contains(least)': False, 'contains(fail)': False, 'contains(sometim)': False, 'contains(clev)': False, 'contains(war)': False, 'contains(last)': False, 'contains(cont)': False, 'contains(short)': False, 'contains(smart)': False, 'contains(put)': False, 'contains(thought)': False, 'contains(sex)': False, 'contains(sur)': False, 'contains(togeth)': False, 'contains(start)': False, 'contains(rel)': False, 'contains(prob)': False, 'contains(why)': False, 'contains(dul)': False, 'contains(bor)': False, 'contains(whol)': False, 'contains(perfect)': False, 'contains(nar)': False, 'contains(capt)': False, 'contains(anyon)': False, 'contains(going)': False, 'contains(hom)': False, 'contains(tel)': False, 'contains(od)': False, 'contains(serv)': False, 'contains(near)': False, 'contains(cut)': False, 'contains(wild)': False, 'contains(him)': False, 'contains(amus)': False, 'contains(away)': False, 'contains(expect)': False, 'contains(mem)': False, 'contains(pretty)': False, 'contains(anyth)': False, 'contains(teen)': False, 'contains(simply)': False, 'contains(prov)': False, 'contains(melodram)': False, 'contains(fac)': False, 'contains(reason)': False, 'contains(complet)': False, 'contains(delight)': False, 'contains(screenplay)': False, 'contains(titl)': False, 'contains(und)': False, 'contains(don)': False, 'contains(rol)': False, 'contains(effort)': False, 'contains(ap)': False, 'contains(famili)': False, 'contains(guy)': False, 'contains(polit)': False, 'contains(cal)': False, 'contains(inspir)': False, 'contains(everyth)': False, 'contains(pac)': False, 'contains(mr.)': False, 'contains(fal)': False, 'contains(entir)': False, 'contains(prem)': False, 'contains(genr)': False, 'contains(bring)': False, 'contains(sum)': False, 'contains(goe)': False, 'contains(light)': False, 'contains(mean)': False, 'contains(hop)': False, 'contains(lead)': False, 'contains(lin)': False, 'contains(obvy)': False, 'contains(girl)': False, 'contains(shot)': False, 'contains(alway)': False, 'contains(ag)': False, 'contains(hil)': False, 'contains(instead)': False, 'contains(ter)': False, 'contains(around)': False, 'contains(pres)': False, 'contains(ide)': False, 'contains(senty)': False, 'contains(flaw)': False, 'contains(attempt)': False, 'contains(rich)': False, 'contains(childr)': False, 'contains(win)': False, 'contains(pain)': False, 'contains(twist)': False, 'contains(fact)': False, 'contains(forc)': False, 'contains(el)': False, 'contains(poss)': False, 'contains(wit)': False, 'contains(video)': False, 'contains(ton)': False, 'contains(clos)': False, 'contains(tend)': False, 'contains(impress)': False, 'contains(ad)': False, 'contains(par)': False, 'contains(tre)': False, 'contains(portrait)': False, 'contains(simpl)': False, 'contains(abl)': False, 'contains(quest)': False, 'contains(clich)': False, 'contains(vert)': False, 'contains(espec)': False, 'contains(boy)': False, 'contains(whos)': False, 'contains(exerc)': False, 'contains(study)': False, 'contains(crim)': False, 'contains(bas)': False, 'contains(miss)': False, 'contains(strong)': False, 'contains(each)': False, 'contains(level)': False, 'contains(three)': False, 'contains(let)': False, 'contains(jok)': False, 'contains(particul)': False, 'contains(op)': False, 'contains(intrigu)': False, 'contains(insight)': False, 'contains(rev)': False, 'contains(pot)': False, 'contains(solid)': False, 'contains(fresh)': False, 'contains(remain)': False, 'contains(worst)': False, 'contains(tri)': False, 'contains(mind)': False, 'contains(consid)': False, 'contains(book)': False, 'contains(hor)': False, 'contains(prom)': False, 'contains(energy)': False, 'contains(quiet)': False, 'contains(warm)': False, 'contains(fil)': False, 'contains(suspens)': False, 'contains(remark)': False, 'contains(provid)': False, 'contains(word)': False, 'contains(satisfy)': False, 'contains(sit)': False, 'contains(complex)': False, 'contains(viol)': False, 'contains(ey)': False, 'contains(col)': False, 'contains(im)': False, 'contains(flat)': False, 'contains(help)': False, 'contains(quirky)': False, 'contains(debut)': False, 'contains(although)': False, 'contains(aw)': False, 'contains(modern)': False, 'contains(men)': False, 'contains(sequel)': False, 'contains(now)': False, 'contains(suff)': False, 'contains(process)': False, 'contains(diff)': False, 'contains(els)': False, 'contains(exceiv)': False, 'contains(half)': False, 'contains(storytel)': False, 'contains(sev)': False, 'contains(hit)': False, 'contains(hap)': False, 'contains(chang)': False, 'contains(psycholog)': False, 'contains(french)': False, 'contains(sequ)': False, 'contains(er)': False, 'contains(extrem)': False, 'contains(forget)': False, 'contains(eith)': False, 'contains(bar)': False, 'contains(cas)': False, 'contains(fat)': False, 'contains(slow)': False, 'contains(deserv)': False, 'contains(mystery)': False, 'contains(stuff)': False, 'contains(john)': False, 'contains(gag)': False, 'contains(neith)': False, 'contains(sav)': False, 'contains(slight)': False, 'contains(excit)': False, 'contains(satir)': False, 'contains(sign)': False, 'contains(somewh)': False, 'contains(sid)': False, 'contains(everyon)': False, 'contains(clear)': False, 'contains(project)': False, 'contains(mast)': False, 'contains(deep)': False, 'contains(smal)': False, 'contains(head)': False, 'contains(convint)': False, 'contains(honest)': False, 'contains(de)': False, 'contains(result)': False, 'contains(expl)': False, 'contains(bril)': False, 'contains(fair)': False, 'contains(mark)': False, 'contains(situ)': False, 'contains(chil)': False, 'contains(gam)': False, 'contains(involv)': False, 'contains(form)': False, 'contains(begin)': False, 'contains(sort)': False, 'contains(shock)': False, 'contains(next)': False, 'contains(found)': False, 'contains(numb)': False, 'contains(detail)': False, 'contains(affect)': False, 'contains(dea)': False, 'contains(earnest)': False, 'contains(wheth)': False, 'contains(conceiv)': False, 'contains(camer)': False, 'contains(hold)': False, 'contains(must)': False, 'contains(oper)': False, 'contains(stand)': False, 'contains(black)': False, 'contains(kil)': False, 'contains(rec)': False, 'contains(rid)': False, 'contains(himself)': False, 'contains(hand)': False, 'contains(sound)': False, 'contains(hero)': False, 'contains(dur)': False, 'contains(deeply)': False, 'contains(execut)': False, 'contains(larg)': False, 'contains(beyond)': False, 'contains(un)': False, 'contains(mot)': False, 'contains(nic)': False, 'contains(past)': False, 'contains(occas)': False, 'contains(adult)': False, 'contains(along)': False, 'contains(tragedy)': False, 'contains(nor)': False, 'contains(bal)': False, 'contains(friend)': False, 'contains(understand)': False, 'contains(at)': False, 'contains(left)': False, 'contains(soc)': False, 'contains(got)': False, 'contains(already)': False, 'contains(typ)': False, 'contains(poor)': False, 'contains(definit)': False, 'contains(terr)': False, 'contains(import)': False, 'contains(stat)': False, 'contains(dead)': False, 'contains(wast)': False, 'contains(bland)': False, 'contains(int)': False, 'contains(grow)': False, 'contains(lit)': False, 'contains(genuin)': False, 'contains(idea)': False, 'contains(weird)': False, 'contains(disappoint)': False, 'contains(mer)': False, 'contains(imposs)': False, 'contains(ear)': False, 'contains(against)': False, 'contains(valu)': False, 'contains(mix)': False, 'contains(tv)': False, 'contains(mil)': True, 'contains(cent)': False, 'contains(pur)': False, 'contains(mood)': False, 'contains(formul)': False, 'contains(stag)': False, 'contains(read)': False, 'contains(dream)': False, 'contains(dumb)': False, 'contains(allow)': False, 'contains(ex)': False, 'contains(abov)': False, 'contains(qual)': False, 'contains(edit)': False, 'contains(deal)': False, 'contains(carry)': False, 'contains(excel)': False, 'contains(fir)': False, 'contains(subtl)': False, 'contains(attract)': False, 'contains(examin)': False, 'contains(cold)': False, 'contains(achiev)': False, 'contains(rest)': False, 'contains(combin)': False, 'contains(gorg)': False, 'contains(develop)': False, 'contains(ii)': False, 'contains(admir)': False, 'contains(wait)': False, 'contains(michael)': False, 'contains(secret)': False, 'contains(follow)': False, 'contains(adapt)': False, 'contains(fantasy)': False, 'contains(tast)': False, 'contains(dog)': False, 'contains(mild)': False, 'contains(nam)': False, 'contains(appear)': False, 'contains(los)': False, 'contains(overal)': False, 'contains(soap)': False, 'contains(approach)': False, 'contains(dec)': True, 'contains(happy)': False, 'contains(damn)': False, 'contains(actress)': False, 'contains(exploit)': False, 'contains(grac)': False, 'contains(told)': False, 'contains(non)': False, 'contains(refresh)': False, 'contains(tir)': False, 'contains(hug)': False, 'contains(difficult)': False, 'contains(thorough)': False, 'contains(four)': False, 'contains(unlik)': False, 'contains(rock)': False, 'contains(intens)': False, 'contains(pul)': False, 'contains(fear)': False, 'contains(thin)': False, 'contains(emerg)': False, 'contains(monst)': False, 'contains(rememb)': False, 'contains(otherw)': False, 'contains(low)': False, 'contains(remind)': False, 'contains(top)': False, 'contains(pretenty)': False, 'contains(lost)': False, 'contains(inv)': False, 'contains(credit)': False, 'contains(vivid)': False, 'contains(episod)': False, 'contains(amb)': False, 'contains(stupid)': False, 'contains(insid)': False, 'contains(escap)': False, 'contains(observ)': False, 'contains(fight)': False, 'contains(tedy)': False, 'contains(sustain)': False, 'contains(dat)': False, 'contains(ep)': False, 'contains(desp)': False, 'contains(murd)': False, 'contains(stev)': False, 'contains(standard)': False, 'contains(eq)': False, 'contains(york)': False, 'contains(cartoon)': False, 'contains(exact)': False, 'contains(break)': False, 'contains(second)': False, 'contains(ut)': False, 'contains(soul)': False, 'contains(coming-of-age)': False, 'contains(issu)': False, 'contains(distinct)': False, 'contains(novel)': False, 'contains(lat)': False, 'contains(gon)': False, 'contains(unexpect)': False, 'contains(plenty)': False, 'contains(themselv)': False, 'contains(wrong)': False, 'contains(mediocr)': False, 'contains(frust)': False, 'contains(skil)': False, 'contains(robert)': False, 'contains(engross)': False, 'contains(strange)': False, 'contains(job)': False, 'contains(mag)': False, 'contains(fig)': False, 'contains(amount)': False, 'contains(vary)': False, 'contains(der)': False, 'contains(poign)': False, 'contains(hat)': False, 'contains(cheap)': False, 'contains(drag)': False, 'contains(bear)': False, 'contains(fit)': False, 'contains(releas)': False, 'contains(pretend)': False, 'contains(horr)': False, 'contains(period)': False, 'contains(term)': False, 'contains(writer-direct)': False, 'contains(thank)': False, 'contains(respect)': False, 'contains(depress)': False, 'contains(ess)': False, 'contains(busy)': False, 'contains(cool)': False, 'contains(air)': False, 'contains(hous)': False, 'contains(subst)': False, 'contains(disney)': False, 'contains(portray)': False, 'contains(recommend)': False, 'contains(scary)': False, 'contains(quick)': False, 'contains(suppos)': False, 'contains(journey)': False, 'contains(unfortun)': False, 'contains(talk)': False, 'contains(david)': False, 'contains(cap)': False, 'contains(cho)': False, 'contains(ask)': False, 'contains(pop)': False, 'contains(welcom)': False, 'contains(kiss)': False, 'contains(park)': False, 'contains(unsettl)': False, 'contains(joy)': False, 'contains(decid)': False, 'contains(singl)': False, 'contains(intim)': False, 'contains(min)': False, 'contains(pay)': False, 'contains(sharp)': False, 'contains(grant)': False, 'contains(auth)': False, 'contains(city)': False, 'contains(spy)': False, 'contains(express)': False, 'contains(straight)': False, 'contains(plain)': False, 'contains(craft)': False, 'contains(middl)': False, 'contains(crit)': False, 'contains(until)': False, 'contains(id)': False, 'contains(main)': False, 'contains(spielberg)': False, 'contains(excess)': False, 'contains(ris)': False, 'contains(remak)': False, 'contains(latest)': False, 'contains(unev)': False, 'contains(brit)': False, 'contains(stay)': False, 'contains(sensit)': False, 'contains(scor)': False, 'contains(body)': False, 'contains(ste)': False, 'contains(ug)': False, 'contains(celebr)': False, 'contains(mayb)': False, 'contains(absurd)': False, 'contains(heavy)': False, 'contains(coupl)': False, 'contains(pack)': False, 'contains(revel)': False, 'contains(ment)': False, 'contains(av)': False, 'contains(commun)': False, 'contains(gentl)': False, 'contains(return)': False, 'contains(cop)': False, 'contains(tradit)': False, 'contains(impact)': False, 'contains(witty)': False, 'contains(opportun)': False, 'contains(creepy)': False, 'contains(atmosph)': False, 'contains(hel)': False, 'contains(reson)': False, 'contains(fram)': False, 'contains(crush)': False, 'contains(saw)': False, 'contains(construct)': False, 'contains(walk)': False, 'contains(\\\\)': False, 'contains(*)': False, 'contains(doubt)': False, 'contains(goofy)': False, 'contains(troubl)': False, 'contains(comply)': False, 'contains(wat)': False, 'contains(fast)': False, 'contains(triumph)': False, 'contains(road)': False, 'contains(edg)': False, 'contains(throughout)': False, 'contains(behind)': False, 'contains(rac)': False, 'contains(shar)': False, 'contains(sci-f)': False, 'contains(upon)': False, 'contains(routin)': False, 'contains(trap)': False, 'contains(fest)': False, 'contains(someon)': False, 'contains(prim)': False, 'contains(hol)': False, 'contains(americ)': False, 'contains(divert)': False, 'contains(target)': False, 'contains(decad)': False, 'contains(old-fashion)': False, 'contains(manip)': False, 'contains(wors)': False, 'contains(conv)': False, 'contains(fem)': False, 'contains(reach)': False, 'contains(dar)': False, 'contains(improv)': False, 'contains(includ)': False, 'contains(rely)': False, 'contains(speak)': False, 'contains(absolv)': False, 'contains(purpos)': False, 'contains(howev)': False, 'contains(amaz)': False, 'contains(crazy)': False, 'contains(in)': False, 'contains(determin)': False, 'contains(wish)': False, 'contains(maj)': False, 'contains(prevy)': False, 'contains(admit)': False, 'contains(felt)': False, 'contains(fut)': False, 'contains(child)': False, 'contains(acc)': False, 'contains(tot)': False, 'contains(limit)': False, 'contains(skin)': False, 'contains(dry)': False, 'contains(fav)': False, 'contains(ir)': False, 'contains(match)': False, 'contains(confus)': False, 'contains(country)': False, 'contains(william)': False, 'contains(root)': False, 'contains(adam)': False, 'contains(empty)': False, 'contains(across)': False, 'contains(altern)': False, 'contains(ind)': False, 'contains(masterpiec)': False, 'contains(urb)': False, 'contains(medit)': False, 'contains(chas)': False, 'contains(leg)': False, 'contains(blu)': False, 'contains(aim)': False, 'contains(green)': False, 'contains(wear)': False, 'contains(app)': False, 'contains(seat)': False, 'contains(philosoph)': False, 'contains(consist)': False, 'contains(shoot)': False, 'contains(doing)': False, 'contains(reward)': False, 'contains(suit)': False, 'contains(loud)': False, 'contains(ent)': False, 'contains(chem)': False, 'contains(night)': False, 'contains(challeng)': False, 'contains(among)': False, 'contains(awkward)': False, 'contains(list)': False, 'contains(sport)': False, 'contains(queen)': False, 'contains(sham)': False, 'contains(ensembl)': False, 'contains(gay)': False, 'contains(eleg)': False, 'contains(provoc)': False, 'contains(suggest)': False, 'contains(draw)': False, 'contains(beat)': False, 'contains(frequ)': False, 'contains(maintain)': False, 'contains(design)': False, 'contains(absorb)': False, 'contains(perhap)': False, 'contains(concern)': False, 'contains(grand)': False, 'contains(apart)': False, 'contains(unfunny)': False, 'contains(deft)': False, 'contains(battl)': False, 'contains(superf)': False, 'contains(contemp)': False, 'contains(dep)': False, 'contains(2)': False, 'contains(whit)': False, 'contains(room)': False, 'contains(apprecy)': False, 'contains(sexy)': False, 'contains(conflict)': False, 'contains(soph)': False, 'contains(trag)': False, 'contains(collect)': False, 'contains(marvel)': False, 'contains(dant)': False, 'contains(continu)': False, 'contains(unus)': False, 'contains(lam)': False, 'contains(sick)': False, 'contains(georg)': False, 'contains(overcom)': False, 'contains(company)': False, 'contains(glory)': False, 'contains(song)': False, 'contains(alon)': False, 'contains(jackson)': False, 'contains(aly)': False, 'contains(catch)': False, 'contains(mal)': False, 'contains(red)': False, 'contains(worthy)': False, 'contains(metaph)': False, 'contains(tom)': False, 'contains(bond)': False, 'contains(90)': False, 'contains(wind)': False, 'contains(&)': False, 'contains(burn)': False, 'contains(osc)': False, 'contains(ye)': False, 'contains(broth)': False, 'contains(chan)': False, 'contains(money)': False, 'contains(sea)': False, 'contains(heav)': False, 'contains(school)': False, 'contains(fish)': False, 'contains(evil)': False, 'contains(univers)': False, 'contains(weak)': False, 'contains(desir)': False, 'contains(offend)': False, 'contains(requir)': False, 'contains(wis)': False, 'contains(pet)': False, 'contains(grip)': False, 'contains(intellect)': False, 'contains(answ)': False, 'contains(argu)': False, 'contains(disgu)': False, 'contains(explod)': False, 'contains(surv)': False, 'contains(demonst)': False, 'contains(poet)': False, 'contains(repres)': False, 'contains(sandl)': False, 'contains(brain)': False, 'contains(necess)': False, 'contains(techn)': False, 'contains(toward)': False, 'contains(moth)': False, 'contains(paint)': False, 'contains(guess)': False, 'contains(poetry)': False, 'contains(meand)': False, 'contains(conclud)': False, 'contains(brown)': False, 'contains(ring)': False, 'contains(photograph)': False, 'contains(unfold)': False, 'contains(fath)': False, 'contains(acceiv)': False, 'contains(shallow)': False, 'contains(cred)': False, 'contains(dist)': False, 'contains(colleg)': False, 'contains(comfort)': False, \"B_'30s_'40s\": False, \"B_'80s_hatosy\": False, 'B_10-course_banquet': False, 'B_18-year-old_mistress': False, 'B_1950_dor': False, 'B_1959_godzill': False, 'B_1986_harlem': False, 'B_50-something_lovebird': False, 'B_75-minute_sampl': False, 'B_\\\\_*': False, 'B_a.e.w_mason': False, 'B_abbot_ernest': False, 'B_abd_malik': False, 'B_abderrahm_sissako': False, 'B_achero_mana': False, 'B_acr_haut': False, 'B_admin_compl': False, 'B_adry_brody': False, 'B_age-wis_caviezel': False, 'B_alain_choquart': False, 'B_alchem_transmogr': False, 'B_all-night_tequil': False, 'B_american-russ_armageddon': False, 'B_ann_mougl': False, 'B_arithmet_camera': False, 'B_artless_sytl': False, 'B_as-it_thinks-it-': False, 'B_as-nasty_as-it': False, 'B_ash_wednesday': False, 'B_aur_christelle': False, 'B_auschwitz_ii-birkenau': False, 'B_avon_leer': False, 'B_avuncul_chortl': False, 'B_ba_murdock': False, 'B_baloney_biz': False, 'B_bang-bang_shoot-em-up': False, 'B_be-all-end-all_modern-office': False, 'B_beachcomb_verismo': False, 'B_beav_butthead': False, 'B_beb_neuwir': False, 'B_bedknob_broomstick': False, 'B_bedsid_vigil': False, 'B_been-told-a_thousand-times': False, 'B_behind-the-scenes_navel-gazing': False, 'B_beloved-major_character-who-shall': False, 'B_bentley_hudson': False, 'B_bettany\\\\/mcdowell_hard-ey': False, 'B_biggy_tupac': False, 'B_bitchy_frol': False, 'B_blanchet_ribis': False, 'B_bluto_blutarsky': False, 'B_bmws_seasid': False, 'B_boogaloo_oversex': False, 'B_brain-deadening_hangov': False, 'B_brazil-like_hyper-real': False, 'B_break-ups_hook-ups': False, 'B_breckin_mey': False, 'B_breheny_lens': False, 'B_brent_hanley': False, 'B_broach_neo-augustinian': False, 'B_brothers-style_down-and-dirty': False, 'B_brussel_sprouts': False, 'B_bubb_ho-tep': False, 'B_buckaroo_banza': False, 'B_bullfight_comatos': False, 'B_bump-in_the-night': False, 'B_burkin_faso': False, 'B_busby_berkeley': False, 'B_buscem_rosario': False, 'B_bustl_atop': False, 'B_bv_re-voiced': False, 'B_byplay_bick': False, 'B_byron_luth': False, 'B_cafeter_goulash': False, 'B_cand_yakusho': False, 'B_cattl_prod': False, 'B_channel-style_antholog': False, 'B_character-who-shall_remain-nameless': False, 'B_cheech_chong': False, 'B_cherry_orchard': False, 'B_chicanery_self-delusion': False, 'B_chirpy_songbird': False, 'B_christine_sylvy': False, 'B_churl_begrudg': False, 'B_clariss_dalloway': False, 'B_closed-door_hanky-panky': False, 'B_clyd_barrow': False, 'B_colg_u': False, 'B_college-spawned_colg': False, 'B_comatos_ballerina': False, 'B_comin_ya': False, 'B_contenty_config': False, 'B_cor-blimey-luv-a-duck_cockney': False, 'B_cornpon_cos': False, 'B_cos_nostr': False, 'B_couch_dr.': False, 'B_cough_fidget': False, 'B_coward_autocrit': False, 'B_cremator_chimney': False, 'B_crypt_mist': False, 'B_culprit_early-on': False, 'B_cynd_laup': False, 'B_d.w._griffi': False, 'B_decent-enough_nail-biter': False, 'B_deficit_flim-flam': False, 'B_dehum_ego-destroying': False, 'B_dej_vu': False, 'B_delinqu_paperback': False, 'B_di_napol': False, 'B_director-chef_gabriel': False, 'B_disapprov_justin': False, 'B_disease-of_the-week': False, 'B_disease-of-the-week_small-screen': False, 'B_disloy_satyr': False, 'B_disobedy_anti-war': False, 'B_djeinab_diop': False, 'B_doing-it-for_the-cash': False, 'B_donn_flor': False, 'B_doodl_steambo': False, 'B_doofus-on_the-loos': False, 'B_double-pistoled_ballistic-pyrotechn': False, 'B_dov_kosashvil': False, 'B_drast_iconograph': False, 'B_dreamlik_ecstasy': False, 'B_drench_swoony': False, 'B_dust-caked_stagn': False, 'B_dusty_leatherbound': False, 'B_eagl_carpet': False, 'B_edmund_mcwilliams': False, 'B_electrocut_dismemb': False, 'B_elfry_jelinek': False, 'B_elimin_behead': False, 'B_embalm_half-assed': False, 'B_ennu_denud': False, 'B_envy_hijack': False, 'B_eponym_1980': False, 'B_erin_brockovich': False, 'B_ernest_tron': False, 'B_esteem_writer-act': False, 'B_evacu_none-too-funny': False, 'B_evanesc_seamless': False, 'B_everlyn_samp': False, 'B_every-joke-has_been-told-a': False, 'B_eye-filling_wide-screen': False, 'B_family-oriented_non-disney': False, 'B_fang-bar_lullaby': False, 'B_fast-edit_hopped-up': False, 'B_flush_testosteron': False, 'B_foo_yung': False, 'B_forem_barking-mad': False, 'B_formid_arithmet': False, 'B_forrest_gump': False, 'B_freewheel_trash-cinema': False, 'B_froth_ex-girlfriend': False, 'B_fuhrm_posthum': False, 'B_future-world_holograph': False, 'B_gabbiest_giant-screen': False, 'B_galinsky_hawley': False, 'B_gandalf_wind-tunnel': False, 'B_gang-infested_east-vs': False, 'B_gaunt_silver-haired': False, 'B_geneviev_leplouff': False, 'B_geograph_displac': False, 'B_giovann_psychy': False, 'B_goldm_bolado': False, 'B_grang_gaug': False, 'B_grenobl_genev': False, 'B_groan-to-guffaw_ratio': False, 'B_grouchy_ayatollah': False, 'B_gruel_time-consuming': False, 'B_gryffind_scarf': False, 'B_gulz_jagjit': False, 'B_gur_dosha': False, 'B_hairlin_weath': False, 'B_handgun_bmws': False, 'B_hard-sell_image-mongering': False, 'B_harp_media-constructed': False, 'B_harvey_weinstein': False, 'B_hatfield_hick': False, 'B_haut_cout': False, 'B_hect_homilet': False, 'B_heedless_impetu': False, 'B_heideg_nietzsche-referencing': False, 'B_heretof_unfathom': False, 'B_hermocr_leontin': False, 'B_hidebound_movie-making': False, 'B_high-wattage_brainpow': False, 'B_hippopotam_ballerin': False, 'B_hitler-study_snid': False, 'B_homework_soak': False, 'B_hong_kong': False, 'B_hoolig_double-barreled': False, 'B_hossein_amin': False, 'B_hottest_hippest': False, 'B_huckst_lapel': False, 'B_hyster_playst': False, 'B_i-heard-a-joke_at-a-frat-party': False, 'B_ib_hjels': False, 'B_ill-timed_antitrust': False, 'B_ill-wrought_hypothes': False, 'B_imbecil_maf': False, 'B_imog_kimmel': False, 'B_imp_divertiss': False, 'B_impud_snick': False, 'B_inext_entwin': False, 'B_insoucy_embed': False, 'B_intract_irrevers': False, 'B_invert_concubin': False, 'B_invok_percuss': False, 'B_iranian-americ_1979': False, 'B_ita_beckon': False, 'B_jae-eun_jeong': False, 'B_jagjit_singh': False, 'B_japanim_hayao': False, 'B_jar-j_bink': False, 'B_javy_bardem': False, 'B_jazz-playing_extermin': False, 'B_jeanet_macdonald': False, 'B_jerky_hand-held': False, 'B_jerusalem_culture-clash': False, 'B_jez_butterwor': False, 'B_jir_menzel': False, 'B_judi_zaz': False, 'B_k_19': False, 'B_karim_drid': False, 'B_karm_enthron': False, 'B_kerrig_platinum-blonde': False, 'B_kid-pleasing_tolerable-to-adults': False, 'B_kirst_dunst': False, 'B_kjel_bjarn': False, 'B_knit_needl': False, 'B_knockoff_zoom': False, 'B_kraft_macaron': False, 'B_lawy_stomach-knotting': False, 'B_leanest_meanest': False, 'B_lian_dognin': False, 'B_limerick_scrawled': False, 'B_lisp_reptil': False, 'B_locust_hord': False, 'B_long-on-the-shelf_point-and-shoot': False, 'B_lugos_now-cliched': False, 'B_m-16_cameo-packed': False, 'B_maf_toolb': False, 'B_maik_firebrand': False, 'B_maint_celib': False, 'B_malik_abbot': False, 'B_mana_schematic': False, 'B_mapquest_email': False, 'B_marck_marilyn': False, 'B_margaret_thatch': False, 'B_mariah_carey': False, 'B_mario_cavaradoss': False, 'B_mazel_tov': False, 'B_mcklusky_c.i': False, 'B_melany_carmichael': False, 'B_mimet_approxim': False, 'B_mind-bender_illit': False, 'B_misunderstand_marivaux': False, 'B_moldy-oldie_not-nearly': False, 'B_mont_cristo': False, 'B_movie-goers_embark': False, 'B_mulholland_dr': False, 'B_murray_prol': False, 'B_muy_loco': False, 'B_muzak_cush': False, 'B_nadir_thriller\\\\/horror': False, 'B_nant_savoc': False, 'B_nata_babbit': False, 'B_nav_personnel': False, 'B_nihil_summon': False, 'B_northwest_bermud': False, 'B_not-nearly_as-nasty': False, 'B_not-so-big_not-so-hot': False, 'B_one-trick_pony': False, 'B_operand_crucifict': False, 'B_ot_iosselian': False, 'B_out-shock_out-outrage': False, 'B_over-indulgent_tirad': False, 'B_overcoming-obstacles_sports-movie': False, 'B_p_artn': False, 'B_padr_amaro': False, 'B_painless_time-killer': False, 'B_pantomimesqu_sterotyp': False, 'B_paramount_imprint': False, 'B_parapsycholog_phenomen': False, 'B_pars_barn-side': False, 'B_pasach_ke': False, 'B_patricio_guzm': False, 'B_paunchy_midsect': False, 'B_pc_stabl': False, 'B_peep_booth': False, 'B_petty_thievery': False, 'B_pimp_ho': False, 'B_plasm_conduit': False, 'B_pog_yal': False, 'B_poky_pseudo-serious': False, 'B_polson_award-winning': False, 'B_post-adolesc_electr': False, 'B_post-tarantino_pop-culture': False, 'B_pouty-lipped_poof': False, 'B_punny_6': False, 'B_pushy_decibel': False, 'B_q._archibald': False, 'B_r._nebrid': False, \"B_raison_d'etre\": False, 'B_rambo_meets-john': False, 'B_reedy_consig': False, 'B_reloc_scuzzy': False, 'B_rembrandt_niftiest': False, 'B_renew_mariah': False, 'B_resuscit_fun-loving': False, 'B_retail_clerk': False, 'B_rick_famuyiw': False, 'B_right-hand_goombah': False, 'B_riot-control_projectil': False, 'B_rivier_spree': False, 'B_rock-n-rolling_eckstraordin': False, 'B_rodrigu_beast-within': False, 'B_romance-novel_platitud': False, 'B_romeo_juliet\\\\/west': False, 'B_rough-trade_homo-eroticism': False, 'B_rov_dangerfield': False, 'B_runyon_crook': False, 'B_ryoko_hirosu': False, 'B_sabar_cortez': False, 'B_saddam_hussein': False, 'B_salt-of-the-earth_mommy': False, 'B_samir_makhmalbaf': False, 'B_scene-chewing_teeth-gnashing': False, 'B_schiffer_hossein': False, 'B_schneidermeister_makin': False, 'B_scoob_shag': False, 'B_scrap_darkest': False, 'B_screeching-metal_smashup': False, 'B_screenful_gamesm': False, 'B_scummy_ripoff': False, 'B_seasid_chatea': False, 'B_self-critical_behind-the-scenes': False, 'B_self-mutilating_sideshow': False, 'B_sequel-for-the-sake_of-a-sequel': False, 'B_sex-in-the-city_misadv': False, 'B_shapiro_goldm': False, 'B_shiver-inducing_nerve-rattling': False, 'B_shoot-outs_fistfight': False, 'B_show-don_t-tell': False, 'B_showbo_wise-cracker': False, 'B_silly-looking_morlock': False, 'B_sissako_heremakono': False, 'B_sixty_rocku': False, 'B_skyscrap_nursery': False, 'B_sleep-inducingly_slow-paced': False, 'B_sleight-of-hand_ill-wrought': False, 'B_smel_greas': False, 'B_softhead_metaphys': False, 'B_song-and-dance-man_pasach': False, 'B_special-effects-laden_extravaganza': False, 'B_speedy_swan': False, 'B_spirit-crushing_ennu': False, 'B_sprawl_uncoordin': False, 'B_spreading_purit': False, 'B_spry_2001': False, 'B_spy-thriller_stup': False, 'B_star-making_machinery': False, 'B_streetwise_mclaughlin': False, 'B_striving_solips': False, 'B_strong-minded_viewpoint': False, 'B_stunt-hungry_dimwit': False, 'B_subsequ_reinv': False, 'B_sunbak_summery': False, 'B_sunny_disposit': False, 'B_super-serious_super-stupid': False, 'B_super-wealthy_megalomaniac': False, 'B_switchblad_sexpot': False, 'B_tap-dancing_rhino': False, 'B_tear-drenched_quicksand': False, 'B_teen-driv_toilet-humor': False, 'B_teen-exploitat_playbook': False, 'B_tendenty_interv': False, 'B_tequil_bend': False, 'B_testosterone-charged_wizardry': False, 'B_thandy_newton': False, 'B_therapeut_zap': False, 'B_therapy-dependent_flakebal': False, 'B_thrill-kill_cat-and-mouser': False, 'B_time-switching_myop': False, 'B_tinny_self-righteousness': False, 'B_toilet-humor_codswallop': False, 'B_tolstoy_groupy': False, 'B_too-hot-for-tv_direct-to-video\\\\/dvd': False, 'B_too-long_spoofy': False, 'B_topnotch_foursom': False, 'B_tow_outdo': False, 'B_trance-noir_trumped-up': False, 'B_trav_bickl': False, 'B_trombon_honk': False, 'B_true-crim_hell-jaunt': False, 'B_truth-in-advertising_hound': False, 'B_twentysometh_hotsy': False, 'B_two-way_time-switching': False, 'B_uncoordin_vect': False, 'B_underdon_potato': False, 'B_unear_quak': False, 'B_unenco_threefold': False, 'B_unnot_underapprecy': False, 'B_unthink_unacceiv': False, 'B_untold_bui': False, 'B_vaness_redgrav': False, 'B_vern_20,000': False, 'B_ving_rham': False, 'B_virtuoso_throat-singing': False, 'B_w._bush': False, 'B_wai_ka': False, 'B_walking-dead_cop-flick': False, 'B_wasp_matron': False, 'B_weim_republ': False, 'B_weiss_speck': False, 'B_well-lensed_gorefest': False, 'B_wholes_ineptitud': False, 'B_wild-and-woolly_wall-to-wal': False, 'B_wittgenstein_kirkegaard': False, 'B_wladyslaw_szpilman': False, 'B_wonder-what_time-it-is': False, 'B_woolf_clariss': False, 'B_wordy_wisp': False, 'B_wra_khan': False, 'B_yasujiro_ozu': False, 'B_yosuk_saeko': False, 'B_zemeck_agree': False, 'B_zhao_bensh': False, 'B_zoe_clarke-williams': False, 'B_zuck_brothers\\\\/abraham': False, 'B_mothm_prophecy': False, 'B_dougla_mcgrath': False, 'B_jessic_stein': False, 'B_morvern_call': False, 'B_ram_dass': False, 'B_clet_tout': False, 'B_elizabe_hurley': False, 'B_longest_yard': False, 'B_drew_barrym': False, 'B_fred_schepisi': False, 'B_highway_patrolm': False, 'B_indec_propos': False, 'B_janklowicz-mann_amir': False, 'B_kenne_branagh': False, 'B_kier_culkin': False, 'B_lily_chou-chou': False, 'B_malcolm_mcdowell': False, 'B_mumbo_jumbo': False, 'B_pau_shor': False, 'B_pearl_harb': False, 'B_pluto_nash': False, 'B_pooty_tang': False, 'B_saigon_1952': False, 'B_scotland_pa': False, 'B_takash_miik': False, 'B_vivek_seldahl': False, 'B_crocodil_hunt': False, 'B_jerry_bruckheim': False, 'B_blair_witch': False, 'B_anne-sophi_birot': False, 'B_quentin_tarantino': False, 'B_satin_roug': False, 'B_emp_club': False, 'B_nichola_nickleby': False, 'B_sant_claus': False, 'B_shangha_ghetto': False, 'B_10-year_delay': False, 'B_1915_armen': False, 'B_1975_eroti-comedy': False, 'B_1979_flat-out': False, 'B_1992_unforg': False, 'B_22-year-old_girlfriend': False, 'B_26-year-old_rees': False, 'B_295_preview': False, 'B_3d_goggl': False, 'B_451_semi-autobiographical': False, 'B_48_hrs': False, 'B_6-year-old_nephew': False, 'B_94-minute_travesty': False, 'B_99_bargain-basement': False, 'B_a.s._byat': False, 'B_ac_japanim': False, 'B_ac_ventur': False, 'B_academ_skullduggery': False, 'B_adrift_bentley': False, 'B_afflu_damsel': False, 'B_agon_catch-22': False, 'B_alfonso_cuaron': False, 'B_amc_greg': False, 'B_analges_balm': False, 'B_andre_tarkovsky': False, 'B_anti-catholic_protest': False, 'B_anti-semitism_neo-fascism': False, 'B_antonio_banderas-lucy': False, 'B_antsy_youngst': False, 'B_anxy_sidestep': False, 'B_area_parent-child': False, 'B_asqui_acclaim': False, 'B_auteil_emy': False}, '2')\n",
      "\tPrecision\tRecall\t\tF1\n",
      "0 \t      0.365      0.264      0.306\n",
      "1 \t      0.425      0.428      0.427\n",
      "2 \t      0.271      0.288      0.279\n",
      "3 \t      0.423      0.408      0.416\n",
      "4 \t      0.394      0.474      0.430\n",
      "  |      0      1      2      3      4 |\n",
      "--+------------------------------------+\n",
      "0 |  <3.3%>  3.1%   1.4%   1.0%   0.3% |\n",
      "1 |   4.6% <11.1%>  5.9%   3.5%   1.1% |\n",
      "2 |   2.3%   5.9%  <5.5%>  5.0%   1.7% |\n",
      "3 |   1.3%   4.5%   4.5% <11.1%>  4.9% |\n",
      "4 |   1.1%   1.3%   2.0%   6.6%  <7.1%>|\n",
      "--+------------------------------------+\n",
      "(row = reference; col = test)\n",
      "\n",
      "Accuracy: 0.38203125\n"
     ]
    }
   ],
   "source": [
    "all_words_list = [word for text in word_tokens for word in text]\n",
    "\n",
    "all_words = nltk.FreqDist(all_words_list)\n",
    "# get the 2000 most frequently appearing keywords in the corpus\n",
    "word_items = all_words.most_common(1000)\n",
    "word_features = [word for (word,count) in word_items]\n",
    "# create the bigram finder on all the words in sequence\n",
    "print(all_words_list[:50])\n",
    "\n",
    "\n",
    "nn_tagger=nltk.PerceptronTagger()\n",
    "\n",
    "taggedtextStanford = [nn_tagger.tag(t) for t in word_tokens]\n",
    "taggedtextStanford[0]\n",
    "tags_only=[]\n",
    "for tag in taggedtextStanford:\n",
    "    pos = [tup[1] for tup in tag]\n",
    "    tags_only.append(pos)\n",
    "tags_only[0]\n",
    "\n",
    "# get the 2000 most frequently appearing keywords in the corpus\n",
    "all_tags_list = [tag for tags in tags_only for tag in tags]\n",
    "all_tags = nltk.FreqDist(all_tags_list)\n",
    "tag_items = all_tags.most_common(2500)\n",
    "tag_features = [word for (word,count) in tag_items]\n",
    "# create the bigram finder on all the words in sequence\n",
    "\n",
    "def POS_features3(document, tags, word_features,tag_features):\n",
    "    document_words = set(document)\n",
    "    #tagged_words = nn_tagger.tag(document)\n",
    "    #tags = [tup[1] for tup in tagged_words]\n",
    "    tagged_words_dist = nltk.FreqDist(tags)\n",
    "    features = {}\n",
    "    for tag in tag_features:\n",
    "        count = tagged_words_dist.get(tag)\n",
    "        if(count==None):\n",
    "            count=0\n",
    "        features['count({})'.format(tag)] = count\n",
    "\n",
    "    for word in word_features:\n",
    "        features['contains({})'.format(word)] = (word in document_words)\n",
    "\n",
    "    document_bigrams = nltk.bigrams(document)\n",
    "    for bigram in bigram_features:\n",
    "        features['B_{}_{}'.format(bigram[0], bigram[1])] = (bigram in document_bigrams)\n",
    "\n",
    "    return features\n",
    "\n",
    "# define feature sets using this function\n",
    "POS_featuresets3 = [(POS_features3(word,tag,word_features, tag_features), label) for word,tag, label in zip(word_tokens,tags_only, labels)]\n",
    "\n",
    "# number of features for document 0\n",
    "print(len(POS_featuresets3[0][0].keys()))\n",
    "\n",
    "# the first sentence\n",
    "print(POS_featuresets3[0])\n",
    "\n",
    "nb_pos_3=run_nb(POS_featuresets3,test_train)\n",
    "#explain_model(nb_uni)\n",
    "# perform the cross-validation on the featuresets with word features and generate accuracy\n",
    "num_folds = 5\n",
    "\n",
    "#run_cross_validation_nb(num_folds, POS_featuresets2)"
   ],
   "metadata": {
    "collapsed": false,
    "pycharm": {
     "name": "#%%\n"
    }
   }
  },
  {
   "cell_type": "code",
   "execution_count": 50,
   "outputs": [
    {
     "name": "stdout",
     "output_type": "stream",
     "text": [
      "9649\n"
     ]
    }
   ],
   "source": [
    "print(all_words.get('RB'))"
   ],
   "metadata": {
    "collapsed": false,
    "pycharm": {
     "name": "#%%\n"
    }
   }
  }
 ],
 "metadata": {
  "kernelspec": {
   "display_name": "Python 3",
   "language": "python",
   "name": "python3"
  },
  "language_info": {
   "codemirror_mode": {
    "name": "ipython",
    "version": 2
   },
   "file_extension": ".py",
   "mimetype": "text/x-python",
   "name": "python",
   "nbconvert_exporter": "python",
   "pygments_lexer": "ipython2",
   "version": "2.7.6"
  }
 },
 "nbformat": 4,
 "nbformat_minor": 0
}